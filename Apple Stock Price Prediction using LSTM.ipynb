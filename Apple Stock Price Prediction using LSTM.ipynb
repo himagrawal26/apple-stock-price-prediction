{
 "cells": [
  {
   "cell_type": "code",
   "execution_count": null,
   "metadata": {
    "executionInfo": {
     "elapsed": 1886,
     "status": "ok",
     "timestamp": 1639538388494,
     "user": {
      "displayName": "Himanshu Agrawal",
      "photoUrl": "https://lh3.googleusercontent.com/a-/AOh14GjP7W2fN8WTbaE8Cz4sW8MWqtRRM6M-4AsS00It=s64",
      "userId": "05949857934793656557"
     },
     "user_tz": -330
    },
    "id": "N6yHaVTXDp2u"
   },
   "outputs": [],
   "source": []
  },
  {
   "cell_type": "markdown",
   "metadata": {
    "id": "mLb1y-atDqei"
   },
   "source": [
    "# Apple Stock Price Prediction using LSTM"
   ]
  },
  {
   "cell_type": "code",
   "execution_count": null,
   "metadata": {
    "executionInfo": {
     "elapsed": 18,
     "status": "ok",
     "timestamp": 1639538388496,
     "user": {
      "displayName": "Himanshu Agrawal",
      "photoUrl": "https://lh3.googleusercontent.com/a-/AOh14GjP7W2fN8WTbaE8Cz4sW8MWqtRRM6M-4AsS00It=s64",
      "userId": "05949857934793656557"
     },
     "user_tz": -330
    },
    "id": "CPkdU-G_DyYJ"
   },
   "outputs": [],
   "source": []
  },
  {
   "cell_type": "markdown",
   "metadata": {
    "id": "9zkg0jmsD0uI"
   },
   "source": [
    "We are creating an LSTM model to forecast Apple stock prices for next 6 months (Dec 2021 - May 2022)"
   ]
  },
  {
   "cell_type": "code",
   "execution_count": null,
   "metadata": {
    "executionInfo": {
     "elapsed": 17,
     "status": "ok",
     "timestamp": 1639538388497,
     "user": {
      "displayName": "Himanshu Agrawal",
      "photoUrl": "https://lh3.googleusercontent.com/a-/AOh14GjP7W2fN8WTbaE8Cz4sW8MWqtRRM6M-4AsS00It=s64",
      "userId": "05949857934793656557"
     },
     "user_tz": -330
    },
    "id": "1msKCBtND1Y9"
   },
   "outputs": [],
   "source": []
  },
  {
   "cell_type": "markdown",
   "metadata": {
    "id": "r1nAJ5gPD6I7"
   },
   "source": [
    "## Data"
   ]
  },
  {
   "cell_type": "code",
   "execution_count": null,
   "metadata": {
    "executionInfo": {
     "elapsed": 18,
     "status": "ok",
     "timestamp": 1639538388498,
     "user": {
      "displayName": "Himanshu Agrawal",
      "photoUrl": "https://lh3.googleusercontent.com/a-/AOh14GjP7W2fN8WTbaE8Cz4sW8MWqtRRM6M-4AsS00It=s64",
      "userId": "05949857934793656557"
     },
     "user_tz": -330
    },
    "id": "gl0F4SsND-pq"
   },
   "outputs": [],
   "source": []
  },
  {
   "cell_type": "markdown",
   "metadata": {
    "id": "OK5Vz0JTEFO3"
   },
   "source": [
    "About the data, it has been taken from Yahoo Finance website (https://finance.yahoo.com/quote/AAPL) and data contains values from 02-01-1990 to 30-11-2021"
   ]
  },
  {
   "cell_type": "code",
   "execution_count": 1,
   "metadata": {
    "executionInfo": {
     "elapsed": 1892,
     "status": "ok",
     "timestamp": 1639538390373,
     "user": {
      "displayName": "Himanshu Agrawal",
      "photoUrl": "https://lh3.googleusercontent.com/a-/AOh14GjP7W2fN8WTbaE8Cz4sW8MWqtRRM6M-4AsS00It=s64",
      "userId": "05949857934793656557"
     },
     "user_tz": -330
    },
    "id": "EZ0Bf1K9EGtB"
   },
   "outputs": [],
   "source": [
    "#Importing Libraries\n",
    "import numpy as np\n",
    "import pandas as pd\n",
    "from tensorflow.keras.models import Sequential\n",
    "from tensorflow.keras.layers import LSTM,Dense\n",
    "from sklearn.preprocessing import MinMaxScaler\n",
    "import matplotlib.pyplot as plt"
   ]
  },
  {
   "cell_type": "code",
   "execution_count": 2,
   "metadata": {
    "colab": {
     "base_uri": "https://localhost:8080/"
    },
    "executionInfo": {
     "elapsed": 26568,
     "status": "ok",
     "timestamp": 1639538416914,
     "user": {
      "displayName": "Himanshu Agrawal",
      "photoUrl": "https://lh3.googleusercontent.com/a-/AOh14GjP7W2fN8WTbaE8Cz4sW8MWqtRRM6M-4AsS00It=s64",
      "userId": "05949857934793656557"
     },
     "user_tz": -330
    },
    "id": "PA9wrWyREMFD",
    "outputId": "ba4278ac-641e-4056-a614-6d2e43c5d4a6"
   },
   "outputs": [
    {
     "name": "stdout",
     "output_type": "stream",
     "text": [
      "Mounted at /content/drive\n"
     ]
    }
   ],
   "source": [
    "from google.colab import drive\n",
    "\n",
    "# This will prompt for authorization.\n",
    "drive.mount('/content/drive')"
   ]
  },
  {
   "cell_type": "code",
   "execution_count": 3,
   "metadata": {
    "colab": {
     "base_uri": "https://localhost:8080/"
    },
    "executionInfo": {
     "elapsed": 51,
     "status": "ok",
     "timestamp": 1639538416915,
     "user": {
      "displayName": "Himanshu Agrawal",
      "photoUrl": "https://lh3.googleusercontent.com/a-/AOh14GjP7W2fN8WTbaE8Cz4sW8MWqtRRM6M-4AsS00It=s64",
      "userId": "05949857934793656557"
     },
     "user_tz": -330
    },
    "id": "FbZxu4Y5EN81",
    "outputId": "a20b4161-c4d5-499e-e0b2-a6dab9c0ce62"
   },
   "outputs": [
    {
     "name": "stdout",
     "output_type": "stream",
     "text": [
      "/content/drive/MyDrive/AAPL.csv\n"
     ]
    }
   ],
   "source": [
    "!ls \"/content/drive/MyDrive/AAPL.csv\"\n",
    "path = \"/content/drive/MyDrive/AAPL.csv\""
   ]
  },
  {
   "cell_type": "code",
   "execution_count": 4,
   "metadata": {
    "executionInfo": {
     "elapsed": 38,
     "status": "ok",
     "timestamp": 1639538416915,
     "user": {
      "displayName": "Himanshu Agrawal",
      "photoUrl": "https://lh3.googleusercontent.com/a-/AOh14GjP7W2fN8WTbaE8Cz4sW8MWqtRRM6M-4AsS00It=s64",
      "userId": "05949857934793656557"
     },
     "user_tz": -330
    },
    "id": "cIJQ_MuVET1e"
   },
   "outputs": [],
   "source": [
    "data = pd.read_csv(path)"
   ]
  },
  {
   "cell_type": "code",
   "execution_count": 5,
   "metadata": {
    "colab": {
     "base_uri": "https://localhost:8080/",
     "height": 423
    },
    "executionInfo": {
     "elapsed": 39,
     "status": "ok",
     "timestamp": 1639538416917,
     "user": {
      "displayName": "Himanshu Agrawal",
      "photoUrl": "https://lh3.googleusercontent.com/a-/AOh14GjP7W2fN8WTbaE8Cz4sW8MWqtRRM6M-4AsS00It=s64",
      "userId": "05949857934793656557"
     },
     "user_tz": -330
    },
    "id": "iBaH-dXHEVmK",
    "outputId": "0e691c63-045d-41d3-8c33-adee9e1a4265"
   },
   "outputs": [
    {
     "data": {
      "text/html": [
       "<div>\n",
       "<style scoped>\n",
       "    .dataframe tbody tr th:only-of-type {\n",
       "        vertical-align: middle;\n",
       "    }\n",
       "\n",
       "    .dataframe tbody tr th {\n",
       "        vertical-align: top;\n",
       "    }\n",
       "\n",
       "    .dataframe thead th {\n",
       "        text-align: right;\n",
       "    }\n",
       "</style>\n",
       "<table border=\"1\" class=\"dataframe\">\n",
       "  <thead>\n",
       "    <tr style=\"text-align: right;\">\n",
       "      <th></th>\n",
       "      <th>Date</th>\n",
       "      <th>Open</th>\n",
       "      <th>High</th>\n",
       "      <th>Low</th>\n",
       "      <th>Close</th>\n",
       "      <th>Adj Close</th>\n",
       "      <th>Volume</th>\n",
       "    </tr>\n",
       "  </thead>\n",
       "  <tbody>\n",
       "    <tr>\n",
       "      <th>0</th>\n",
       "      <td>02-01-1990</td>\n",
       "      <td>0.314732</td>\n",
       "      <td>0.334821</td>\n",
       "      <td>0.312500</td>\n",
       "      <td>0.332589</td>\n",
       "      <td>0.266423</td>\n",
       "      <td>183198400</td>\n",
       "    </tr>\n",
       "    <tr>\n",
       "      <th>1</th>\n",
       "      <td>03-01-1990</td>\n",
       "      <td>0.339286</td>\n",
       "      <td>0.339286</td>\n",
       "      <td>0.334821</td>\n",
       "      <td>0.334821</td>\n",
       "      <td>0.268211</td>\n",
       "      <td>207995200</td>\n",
       "    </tr>\n",
       "    <tr>\n",
       "      <th>2</th>\n",
       "      <td>04-01-1990</td>\n",
       "      <td>0.341518</td>\n",
       "      <td>0.345982</td>\n",
       "      <td>0.332589</td>\n",
       "      <td>0.335938</td>\n",
       "      <td>0.269106</td>\n",
       "      <td>221513600</td>\n",
       "    </tr>\n",
       "    <tr>\n",
       "      <th>3</th>\n",
       "      <td>05-01-1990</td>\n",
       "      <td>0.337054</td>\n",
       "      <td>0.341518</td>\n",
       "      <td>0.330357</td>\n",
       "      <td>0.337054</td>\n",
       "      <td>0.270000</td>\n",
       "      <td>123312000</td>\n",
       "    </tr>\n",
       "    <tr>\n",
       "      <th>4</th>\n",
       "      <td>08-01-1990</td>\n",
       "      <td>0.334821</td>\n",
       "      <td>0.339286</td>\n",
       "      <td>0.330357</td>\n",
       "      <td>0.339286</td>\n",
       "      <td>0.271788</td>\n",
       "      <td>101572800</td>\n",
       "    </tr>\n",
       "    <tr>\n",
       "      <th>...</th>\n",
       "      <td>...</td>\n",
       "      <td>...</td>\n",
       "      <td>...</td>\n",
       "      <td>...</td>\n",
       "      <td>...</td>\n",
       "      <td>...</td>\n",
       "      <td>...</td>\n",
       "    </tr>\n",
       "    <tr>\n",
       "      <th>8037</th>\n",
       "      <td>23-11-2021</td>\n",
       "      <td>161.119995</td>\n",
       "      <td>161.800003</td>\n",
       "      <td>159.059998</td>\n",
       "      <td>161.410004</td>\n",
       "      <td>161.410004</td>\n",
       "      <td>96041900</td>\n",
       "    </tr>\n",
       "    <tr>\n",
       "      <th>8038</th>\n",
       "      <td>24-11-2021</td>\n",
       "      <td>160.750000</td>\n",
       "      <td>162.139999</td>\n",
       "      <td>159.639999</td>\n",
       "      <td>161.940002</td>\n",
       "      <td>161.940002</td>\n",
       "      <td>69463600</td>\n",
       "    </tr>\n",
       "    <tr>\n",
       "      <th>8039</th>\n",
       "      <td>26-11-2021</td>\n",
       "      <td>159.570007</td>\n",
       "      <td>160.449997</td>\n",
       "      <td>156.360001</td>\n",
       "      <td>156.809998</td>\n",
       "      <td>156.809998</td>\n",
       "      <td>76959800</td>\n",
       "    </tr>\n",
       "    <tr>\n",
       "      <th>8040</th>\n",
       "      <td>29-11-2021</td>\n",
       "      <td>159.369995</td>\n",
       "      <td>161.190002</td>\n",
       "      <td>158.789993</td>\n",
       "      <td>160.240005</td>\n",
       "      <td>160.240005</td>\n",
       "      <td>88748200</td>\n",
       "    </tr>\n",
       "    <tr>\n",
       "      <th>8041</th>\n",
       "      <td>30-11-2021</td>\n",
       "      <td>159.990005</td>\n",
       "      <td>165.520004</td>\n",
       "      <td>159.919998</td>\n",
       "      <td>165.300003</td>\n",
       "      <td>165.300003</td>\n",
       "      <td>174048100</td>\n",
       "    </tr>\n",
       "  </tbody>\n",
       "</table>\n",
       "<p>8042 rows × 7 columns</p>\n",
       "</div>"
      ],
      "text/plain": [
       "            Date        Open        High  ...       Close   Adj Close     Volume\n",
       "0     02-01-1990    0.314732    0.334821  ...    0.332589    0.266423  183198400\n",
       "1     03-01-1990    0.339286    0.339286  ...    0.334821    0.268211  207995200\n",
       "2     04-01-1990    0.341518    0.345982  ...    0.335938    0.269106  221513600\n",
       "3     05-01-1990    0.337054    0.341518  ...    0.337054    0.270000  123312000\n",
       "4     08-01-1990    0.334821    0.339286  ...    0.339286    0.271788  101572800\n",
       "...          ...         ...         ...  ...         ...         ...        ...\n",
       "8037  23-11-2021  161.119995  161.800003  ...  161.410004  161.410004   96041900\n",
       "8038  24-11-2021  160.750000  162.139999  ...  161.940002  161.940002   69463600\n",
       "8039  26-11-2021  159.570007  160.449997  ...  156.809998  156.809998   76959800\n",
       "8040  29-11-2021  159.369995  161.190002  ...  160.240005  160.240005   88748200\n",
       "8041  30-11-2021  159.990005  165.520004  ...  165.300003  165.300003  174048100\n",
       "\n",
       "[8042 rows x 7 columns]"
      ]
     },
     "execution_count": 5,
     "metadata": {},
     "output_type": "execute_result"
    }
   ],
   "source": [
    "data"
   ]
  },
  {
   "cell_type": "code",
   "execution_count": 6,
   "metadata": {
    "colab": {
     "base_uri": "https://localhost:8080/"
    },
    "executionInfo": {
     "elapsed": 38,
     "status": "ok",
     "timestamp": 1639538416919,
     "user": {
      "displayName": "Himanshu Agrawal",
      "photoUrl": "https://lh3.googleusercontent.com/a-/AOh14GjP7W2fN8WTbaE8Cz4sW8MWqtRRM6M-4AsS00It=s64",
      "userId": "05949857934793656557"
     },
     "user_tz": -330
    },
    "id": "-Pyl01Z3EXWh",
    "outputId": "0e21bef8-b0fb-44b9-c19f-183f595677a8"
   },
   "outputs": [
    {
     "name": "stdout",
     "output_type": "stream",
     "text": [
      "<class 'pandas.core.frame.DataFrame'>\n",
      "RangeIndex: 8042 entries, 0 to 8041\n",
      "Data columns (total 7 columns):\n",
      " #   Column     Non-Null Count  Dtype  \n",
      "---  ------     --------------  -----  \n",
      " 0   Date       8042 non-null   object \n",
      " 1   Open       8042 non-null   float64\n",
      " 2   High       8042 non-null   float64\n",
      " 3   Low        8042 non-null   float64\n",
      " 4   Close      8042 non-null   float64\n",
      " 5   Adj Close  8042 non-null   float64\n",
      " 6   Volume     8042 non-null   int64  \n",
      "dtypes: float64(5), int64(1), object(1)\n",
      "memory usage: 439.9+ KB\n"
     ]
    }
   ],
   "source": [
    "data.info()"
   ]
  },
  {
   "cell_type": "code",
   "execution_count": 7,
   "metadata": {
    "colab": {
     "base_uri": "https://localhost:8080/",
     "height": 300
    },
    "executionInfo": {
     "elapsed": 33,
     "status": "ok",
     "timestamp": 1639538416919,
     "user": {
      "displayName": "Himanshu Agrawal",
      "photoUrl": "https://lh3.googleusercontent.com/a-/AOh14GjP7W2fN8WTbaE8Cz4sW8MWqtRRM6M-4AsS00It=s64",
      "userId": "05949857934793656557"
     },
     "user_tz": -330
    },
    "id": "78qAYAyFEZVP",
    "outputId": "18e1e5b5-cd24-4a1a-80c4-fc84ba8f6b06"
   },
   "outputs": [
    {
     "data": {
      "text/html": [
       "<div>\n",
       "<style scoped>\n",
       "    .dataframe tbody tr th:only-of-type {\n",
       "        vertical-align: middle;\n",
       "    }\n",
       "\n",
       "    .dataframe tbody tr th {\n",
       "        vertical-align: top;\n",
       "    }\n",
       "\n",
       "    .dataframe thead th {\n",
       "        text-align: right;\n",
       "    }\n",
       "</style>\n",
       "<table border=\"1\" class=\"dataframe\">\n",
       "  <thead>\n",
       "    <tr style=\"text-align: right;\">\n",
       "      <th></th>\n",
       "      <th>Open</th>\n",
       "      <th>High</th>\n",
       "      <th>Low</th>\n",
       "      <th>Close</th>\n",
       "      <th>Adj Close</th>\n",
       "      <th>Volume</th>\n",
       "    </tr>\n",
       "  </thead>\n",
       "  <tbody>\n",
       "    <tr>\n",
       "      <th>count</th>\n",
       "      <td>8042.000000</td>\n",
       "      <td>8042.000000</td>\n",
       "      <td>8042.000000</td>\n",
       "      <td>8042.000000</td>\n",
       "      <td>8042.000000</td>\n",
       "      <td>8.042000e+03</td>\n",
       "    </tr>\n",
       "    <tr>\n",
       "      <th>mean</th>\n",
       "      <td>16.351917</td>\n",
       "      <td>16.525066</td>\n",
       "      <td>16.178668</td>\n",
       "      <td>16.358983</td>\n",
       "      <td>15.594377</td>\n",
       "      <td>3.831832e+08</td>\n",
       "    </tr>\n",
       "    <tr>\n",
       "      <th>std</th>\n",
       "      <td>29.698129</td>\n",
       "      <td>30.021799</td>\n",
       "      <td>29.380971</td>\n",
       "      <td>29.717860</td>\n",
       "      <td>29.448485</td>\n",
       "      <td>3.633095e+08</td>\n",
       "    </tr>\n",
       "    <tr>\n",
       "      <th>min</th>\n",
       "      <td>0.114955</td>\n",
       "      <td>0.118304</td>\n",
       "      <td>0.113839</td>\n",
       "      <td>0.115513</td>\n",
       "      <td>0.099037</td>\n",
       "      <td>2.396800e+06</td>\n",
       "    </tr>\n",
       "    <tr>\n",
       "      <th>25%</th>\n",
       "      <td>0.367266</td>\n",
       "      <td>0.375000</td>\n",
       "      <td>0.358929</td>\n",
       "      <td>0.367188</td>\n",
       "      <td>0.308923</td>\n",
       "      <td>1.478439e+08</td>\n",
       "    </tr>\n",
       "    <tr>\n",
       "      <th>50%</th>\n",
       "      <td>2.111071</td>\n",
       "      <td>2.138393</td>\n",
       "      <td>2.058393</td>\n",
       "      <td>2.106428</td>\n",
       "      <td>1.805978</td>\n",
       "      <td>2.664242e+08</td>\n",
       "    </tr>\n",
       "    <tr>\n",
       "      <th>75%</th>\n",
       "      <td>21.204196</td>\n",
       "      <td>21.363661</td>\n",
       "      <td>20.989554</td>\n",
       "      <td>21.170268</td>\n",
       "      <td>18.389792</td>\n",
       "      <td>4.808804e+08</td>\n",
       "    </tr>\n",
       "    <tr>\n",
       "      <th>max</th>\n",
       "      <td>161.679993</td>\n",
       "      <td>165.699997</td>\n",
       "      <td>161.000000</td>\n",
       "      <td>165.300003</td>\n",
       "      <td>165.300003</td>\n",
       "      <td>7.421641e+09</td>\n",
       "    </tr>\n",
       "  </tbody>\n",
       "</table>\n",
       "</div>"
      ],
      "text/plain": [
       "              Open         High  ...    Adj Close        Volume\n",
       "count  8042.000000  8042.000000  ...  8042.000000  8.042000e+03\n",
       "mean     16.351917    16.525066  ...    15.594377  3.831832e+08\n",
       "std      29.698129    30.021799  ...    29.448485  3.633095e+08\n",
       "min       0.114955     0.118304  ...     0.099037  2.396800e+06\n",
       "25%       0.367266     0.375000  ...     0.308923  1.478439e+08\n",
       "50%       2.111071     2.138393  ...     1.805978  2.664242e+08\n",
       "75%      21.204196    21.363661  ...    18.389792  4.808804e+08\n",
       "max     161.679993   165.699997  ...   165.300003  7.421641e+09\n",
       "\n",
       "[8 rows x 6 columns]"
      ]
     },
     "execution_count": 7,
     "metadata": {},
     "output_type": "execute_result"
    }
   ],
   "source": [
    "data.describe()"
   ]
  },
  {
   "cell_type": "code",
   "execution_count": 8,
   "metadata": {
    "executionInfo": {
     "elapsed": 33,
     "status": "ok",
     "timestamp": 1639538416920,
     "user": {
      "displayName": "Himanshu Agrawal",
      "photoUrl": "https://lh3.googleusercontent.com/a-/AOh14GjP7W2fN8WTbaE8Cz4sW8MWqtRRM6M-4AsS00It=s64",
      "userId": "05949857934793656557"
     },
     "user_tz": -330
    },
    "id": "8HWtsfN5EcOd"
   },
   "outputs": [],
   "source": [
    "data['Date'] = pd.to_datetime(data['Date'], dayfirst=True)"
   ]
  },
  {
   "cell_type": "code",
   "execution_count": 9,
   "metadata": {
    "colab": {
     "base_uri": "https://localhost:8080/",
     "height": 206
    },
    "executionInfo": {
     "elapsed": 32,
     "status": "ok",
     "timestamp": 1639538416920,
     "user": {
      "displayName": "Himanshu Agrawal",
      "photoUrl": "https://lh3.googleusercontent.com/a-/AOh14GjP7W2fN8WTbaE8Cz4sW8MWqtRRM6M-4AsS00It=s64",
      "userId": "05949857934793656557"
     },
     "user_tz": -330
    },
    "id": "4ajSvvnEEeCi",
    "outputId": "2aedaae8-dec6-482a-9b4c-30c2e195ee58"
   },
   "outputs": [
    {
     "data": {
      "text/html": [
       "<div>\n",
       "<style scoped>\n",
       "    .dataframe tbody tr th:only-of-type {\n",
       "        vertical-align: middle;\n",
       "    }\n",
       "\n",
       "    .dataframe tbody tr th {\n",
       "        vertical-align: top;\n",
       "    }\n",
       "\n",
       "    .dataframe thead th {\n",
       "        text-align: right;\n",
       "    }\n",
       "</style>\n",
       "<table border=\"1\" class=\"dataframe\">\n",
       "  <thead>\n",
       "    <tr style=\"text-align: right;\">\n",
       "      <th></th>\n",
       "      <th>Date</th>\n",
       "      <th>Open</th>\n",
       "      <th>High</th>\n",
       "      <th>Low</th>\n",
       "      <th>Close</th>\n",
       "      <th>Adj Close</th>\n",
       "      <th>Volume</th>\n",
       "      <th>Avg_price</th>\n",
       "    </tr>\n",
       "  </thead>\n",
       "  <tbody>\n",
       "    <tr>\n",
       "      <th>0</th>\n",
       "      <td>1990-01-02</td>\n",
       "      <td>0.314732</td>\n",
       "      <td>0.334821</td>\n",
       "      <td>0.312500</td>\n",
       "      <td>0.332589</td>\n",
       "      <td>0.266423</td>\n",
       "      <td>183198400</td>\n",
       "      <td>0.323661</td>\n",
       "    </tr>\n",
       "    <tr>\n",
       "      <th>1</th>\n",
       "      <td>1990-01-03</td>\n",
       "      <td>0.339286</td>\n",
       "      <td>0.339286</td>\n",
       "      <td>0.334821</td>\n",
       "      <td>0.334821</td>\n",
       "      <td>0.268211</td>\n",
       "      <td>207995200</td>\n",
       "      <td>0.337054</td>\n",
       "    </tr>\n",
       "    <tr>\n",
       "      <th>2</th>\n",
       "      <td>1990-01-04</td>\n",
       "      <td>0.341518</td>\n",
       "      <td>0.345982</td>\n",
       "      <td>0.332589</td>\n",
       "      <td>0.335938</td>\n",
       "      <td>0.269106</td>\n",
       "      <td>221513600</td>\n",
       "      <td>0.339286</td>\n",
       "    </tr>\n",
       "    <tr>\n",
       "      <th>3</th>\n",
       "      <td>1990-01-05</td>\n",
       "      <td>0.337054</td>\n",
       "      <td>0.341518</td>\n",
       "      <td>0.330357</td>\n",
       "      <td>0.337054</td>\n",
       "      <td>0.270000</td>\n",
       "      <td>123312000</td>\n",
       "      <td>0.335938</td>\n",
       "    </tr>\n",
       "    <tr>\n",
       "      <th>4</th>\n",
       "      <td>1990-01-08</td>\n",
       "      <td>0.334821</td>\n",
       "      <td>0.339286</td>\n",
       "      <td>0.330357</td>\n",
       "      <td>0.339286</td>\n",
       "      <td>0.271788</td>\n",
       "      <td>101572800</td>\n",
       "      <td>0.334821</td>\n",
       "    </tr>\n",
       "  </tbody>\n",
       "</table>\n",
       "</div>"
      ],
      "text/plain": [
       "        Date      Open      High  ...  Adj Close     Volume  Avg_price\n",
       "0 1990-01-02  0.314732  0.334821  ...   0.266423  183198400   0.323661\n",
       "1 1990-01-03  0.339286  0.339286  ...   0.268211  207995200   0.337054\n",
       "2 1990-01-04  0.341518  0.345982  ...   0.269106  221513600   0.339286\n",
       "3 1990-01-05  0.337054  0.341518  ...   0.270000  123312000   0.335938\n",
       "4 1990-01-08  0.334821  0.339286  ...   0.271788  101572800   0.334821\n",
       "\n",
       "[5 rows x 8 columns]"
      ]
     },
     "execution_count": 9,
     "metadata": {},
     "output_type": "execute_result"
    }
   ],
   "source": [
    "data['Avg_price'] = data[['High','Low']].mean(axis=1)\n",
    "data.head()"
   ]
  },
  {
   "cell_type": "code",
   "execution_count": 10,
   "metadata": {
    "colab": {
     "base_uri": "https://localhost:8080/",
     "height": 206
    },
    "executionInfo": {
     "elapsed": 31,
     "status": "ok",
     "timestamp": 1639538416921,
     "user": {
      "displayName": "Himanshu Agrawal",
      "photoUrl": "https://lh3.googleusercontent.com/a-/AOh14GjP7W2fN8WTbaE8Cz4sW8MWqtRRM6M-4AsS00It=s64",
      "userId": "05949857934793656557"
     },
     "user_tz": -330
    },
    "id": "pSp9f0PPEgs4",
    "outputId": "9dfd70ba-9e84-429f-969a-f048385c16f1"
   },
   "outputs": [
    {
     "data": {
      "text/html": [
       "<div>\n",
       "<style scoped>\n",
       "    .dataframe tbody tr th:only-of-type {\n",
       "        vertical-align: middle;\n",
       "    }\n",
       "\n",
       "    .dataframe tbody tr th {\n",
       "        vertical-align: top;\n",
       "    }\n",
       "\n",
       "    .dataframe thead th {\n",
       "        text-align: right;\n",
       "    }\n",
       "</style>\n",
       "<table border=\"1\" class=\"dataframe\">\n",
       "  <thead>\n",
       "    <tr style=\"text-align: right;\">\n",
       "      <th></th>\n",
       "      <th>Date</th>\n",
       "      <th>Avg_price</th>\n",
       "    </tr>\n",
       "  </thead>\n",
       "  <tbody>\n",
       "    <tr>\n",
       "      <th>0</th>\n",
       "      <td>1990-01-02</td>\n",
       "      <td>0.323661</td>\n",
       "    </tr>\n",
       "    <tr>\n",
       "      <th>1</th>\n",
       "      <td>1990-01-03</td>\n",
       "      <td>0.337054</td>\n",
       "    </tr>\n",
       "    <tr>\n",
       "      <th>2</th>\n",
       "      <td>1990-01-04</td>\n",
       "      <td>0.339286</td>\n",
       "    </tr>\n",
       "    <tr>\n",
       "      <th>3</th>\n",
       "      <td>1990-01-05</td>\n",
       "      <td>0.335938</td>\n",
       "    </tr>\n",
       "    <tr>\n",
       "      <th>4</th>\n",
       "      <td>1990-01-08</td>\n",
       "      <td>0.334821</td>\n",
       "    </tr>\n",
       "  </tbody>\n",
       "</table>\n",
       "</div>"
      ],
      "text/plain": [
       "        Date  Avg_price\n",
       "0 1990-01-02   0.323661\n",
       "1 1990-01-03   0.337054\n",
       "2 1990-01-04   0.339286\n",
       "3 1990-01-05   0.335938\n",
       "4 1990-01-08   0.334821"
      ]
     },
     "execution_count": 10,
     "metadata": {},
     "output_type": "execute_result"
    }
   ],
   "source": [
    "data.drop(['Open','Close','High','Low','Volume','Adj Close'], axis=1, inplace=True)\n",
    "data.head()"
   ]
  },
  {
   "cell_type": "code",
   "execution_count": 11,
   "metadata": {
    "colab": {
     "base_uri": "https://localhost:8080/",
     "height": 237
    },
    "executionInfo": {
     "elapsed": 30,
     "status": "ok",
     "timestamp": 1639538416921,
     "user": {
      "displayName": "Himanshu Agrawal",
      "photoUrl": "https://lh3.googleusercontent.com/a-/AOh14GjP7W2fN8WTbaE8Cz4sW8MWqtRRM6M-4AsS00It=s64",
      "userId": "05949857934793656557"
     },
     "user_tz": -330
    },
    "id": "Ri8eLylnEm26",
    "outputId": "0bcab262-7d71-4533-87fc-75367b671098"
   },
   "outputs": [
    {
     "data": {
      "text/html": [
       "<div>\n",
       "<style scoped>\n",
       "    .dataframe tbody tr th:only-of-type {\n",
       "        vertical-align: middle;\n",
       "    }\n",
       "\n",
       "    .dataframe tbody tr th {\n",
       "        vertical-align: top;\n",
       "    }\n",
       "\n",
       "    .dataframe thead th {\n",
       "        text-align: right;\n",
       "    }\n",
       "</style>\n",
       "<table border=\"1\" class=\"dataframe\">\n",
       "  <thead>\n",
       "    <tr style=\"text-align: right;\">\n",
       "      <th></th>\n",
       "      <th>Avg_price</th>\n",
       "    </tr>\n",
       "    <tr>\n",
       "      <th>Date</th>\n",
       "      <th></th>\n",
       "    </tr>\n",
       "  </thead>\n",
       "  <tbody>\n",
       "    <tr>\n",
       "      <th>1990-01-02</th>\n",
       "      <td>0.323661</td>\n",
       "    </tr>\n",
       "    <tr>\n",
       "      <th>1990-01-03</th>\n",
       "      <td>0.337054</td>\n",
       "    </tr>\n",
       "    <tr>\n",
       "      <th>1990-01-04</th>\n",
       "      <td>0.339286</td>\n",
       "    </tr>\n",
       "    <tr>\n",
       "      <th>1990-01-05</th>\n",
       "      <td>0.335938</td>\n",
       "    </tr>\n",
       "    <tr>\n",
       "      <th>1990-01-08</th>\n",
       "      <td>0.334821</td>\n",
       "    </tr>\n",
       "  </tbody>\n",
       "</table>\n",
       "</div>"
      ],
      "text/plain": [
       "            Avg_price\n",
       "Date                 \n",
       "1990-01-02   0.323661\n",
       "1990-01-03   0.337054\n",
       "1990-01-04   0.339286\n",
       "1990-01-05   0.335938\n",
       "1990-01-08   0.334821"
      ]
     },
     "execution_count": 11,
     "metadata": {},
     "output_type": "execute_result"
    }
   ],
   "source": [
    "data.set_index('Date', inplace=True)\n",
    "data.head()"
   ]
  },
  {
   "cell_type": "code",
   "execution_count": 12,
   "metadata": {
    "colab": {
     "base_uri": "https://localhost:8080/",
     "height": 727
    },
    "executionInfo": {
     "elapsed": 2672,
     "status": "ok",
     "timestamp": 1639538419565,
     "user": {
      "displayName": "Himanshu Agrawal",
      "photoUrl": "https://lh3.googleusercontent.com/a-/AOh14GjP7W2fN8WTbaE8Cz4sW8MWqtRRM6M-4AsS00It=s64",
      "userId": "05949857934793656557"
     },
     "user_tz": -330
    },
    "id": "YjCfgSjuErjz",
    "outputId": "51da83b1-1d32-4f97-a1cc-e49d991e4413"
   },
   "outputs": [
    {
     "data": {
      "text/plain": [
       "Text(0, 0.5, 'Price')"
      ]
     },
     "execution_count": 12,
     "metadata": {},
     "output_type": "execute_result"
    },
    {
     "data": {
      "image/png": "[encoded data removed]",
      "text/plain": [
       "<Figure size 1440x864 with 1 Axes>"
      ]
     },
     "metadata": {
      "needs_background": "light"
     },
     "output_type": "display_data"
    }
   ],
   "source": [
    "plt.figure(figsize=(20,12))\n",
    "plt.plot(data)\n",
    "plt.xlabel('Year', fontsize=15)\n",
    "plt.ylabel('Price', fontsize=15)"
   ]
  },
  {
   "cell_type": "code",
   "execution_count": 12,
   "metadata": {
    "executionInfo": {
     "elapsed": 88,
     "status": "ok",
     "timestamp": 1639538419568,
     "user": {
      "displayName": "Himanshu Agrawal",
      "photoUrl": "https://lh3.googleusercontent.com/a-/AOh14GjP7W2fN8WTbaE8Cz4sW8MWqtRRM6M-4AsS00It=s64",
      "userId": "05949857934793656557"
     },
     "user_tz": -330
    },
    "id": "_lNDVagxEufB"
   },
   "outputs": [],
   "source": []
  },
  {
   "cell_type": "markdown",
   "metadata": {
    "id": "IsJJgcGrExXM"
   },
   "source": [
    "It can be seen that from 1990 to 2009, the stock value seems almost constant, it is better to take the data 2009 onwards and make a model with that data"
   ]
  },
  {
   "cell_type": "code",
   "execution_count": 13,
   "metadata": {
    "colab": {
     "base_uri": "https://localhost:8080/"
    },
    "executionInfo": {
     "elapsed": 88,
     "status": "ok",
     "timestamp": 1639538419569,
     "user": {
      "displayName": "Himanshu Agrawal",
      "photoUrl": "https://lh3.googleusercontent.com/a-/AOh14GjP7W2fN8WTbaE8Cz4sW8MWqtRRM6M-4AsS00It=s64",
      "userId": "05949857934793656557"
     },
     "user_tz": -330
    },
    "id": "vm7evWpfFHJA",
    "outputId": "b90210a3-39fb-4d24-c537-6deff81f872b"
   },
   "outputs": [
    {
     "data": {
      "text/plain": [
       "Avg_price    0.323661\n",
       "Name: 1990-01-02 00:00:00, dtype: float64"
      ]
     },
     "execution_count": 13,
     "metadata": {},
     "output_type": "execute_result"
    }
   ],
   "source": [
    "data.loc['1990-01-02']"
   ]
  },
  {
   "cell_type": "code",
   "execution_count": 14,
   "metadata": {
    "colab": {
     "base_uri": "https://localhost:8080/"
    },
    "executionInfo": {
     "elapsed": 82,
     "status": "ok",
     "timestamp": 1639538419569,
     "user": {
      "displayName": "Himanshu Agrawal",
      "photoUrl": "https://lh3.googleusercontent.com/a-/AOh14GjP7W2fN8WTbaE8Cz4sW8MWqtRRM6M-4AsS00It=s64",
      "userId": "05949857934793656557"
     },
     "user_tz": -330
    },
    "id": "6FBCUf_wFVeR",
    "outputId": "8998c8a0-0f09-40d8-9e7f-4f12f3247aea"
   },
   "outputs": [
    {
     "data": {
      "text/plain": [
       "Avg_price    3.146429\n",
       "Name: 2009-01-02 00:00:00, dtype: float64"
      ]
     },
     "execution_count": 14,
     "metadata": {},
     "output_type": "execute_result"
    }
   ],
   "source": [
    "data.loc['2009-01-02']"
   ]
  },
  {
   "cell_type": "code",
   "execution_count": 15,
   "metadata": {
    "colab": {
     "base_uri": "https://localhost:8080/"
    },
    "executionInfo": {
     "elapsed": 80,
     "status": "ok",
     "timestamp": 1639538419570,
     "user": {
      "displayName": "Himanshu Agrawal",
      "photoUrl": "https://lh3.googleusercontent.com/a-/AOh14GjP7W2fN8WTbaE8Cz4sW8MWqtRRM6M-4AsS00It=s64",
      "userId": "05949857934793656557"
     },
     "user_tz": -330
    },
    "id": "MrXq7hN-FbI5",
    "outputId": "66a7ad1a-a0d6-49be-bc35-ec071a5eeece"
   },
   "outputs": [
    {
     "data": {
      "text/plain": [
       "Avg_price    7.622857\n",
       "Name: 2010-01-04 00:00:00, dtype: float64"
      ]
     },
     "execution_count": 15,
     "metadata": {},
     "output_type": "execute_result"
    }
   ],
   "source": [
    "data.loc['2010-01-04']"
   ]
  },
  {
   "cell_type": "code",
   "execution_count": 16,
   "metadata": {
    "colab": {
     "base_uri": "https://localhost:8080/"
    },
    "executionInfo": {
     "elapsed": 73,
     "status": "ok",
     "timestamp": 1639538419570,
     "user": {
      "displayName": "Himanshu Agrawal",
      "photoUrl": "https://lh3.googleusercontent.com/a-/AOh14GjP7W2fN8WTbaE8Cz4sW8MWqtRRM6M-4AsS00It=s64",
      "userId": "05949857934793656557"
     },
     "user_tz": -330
    },
    "id": "KfakKRgDFeDb",
    "outputId": "5fe3447b-abaf-4eec-9f8f-465653e2ba0b"
   },
   "outputs": [
    {
     "data": {
      "text/plain": [
       "Avg_price    11.698214\n",
       "Name: 2011-01-03 00:00:00, dtype: float64"
      ]
     },
     "execution_count": 16,
     "metadata": {},
     "output_type": "execute_result"
    }
   ],
   "source": [
    "data.loc['2011-01-03']"
   ]
  },
  {
   "cell_type": "code",
   "execution_count": 17,
   "metadata": {
    "colab": {
     "base_uri": "https://localhost:8080/"
    },
    "executionInfo": {
     "elapsed": 70,
     "status": "ok",
     "timestamp": 1639538419570,
     "user": {
      "displayName": "Himanshu Agrawal",
      "photoUrl": "https://lh3.googleusercontent.com/a-/AOh14GjP7W2fN8WTbaE8Cz4sW8MWqtRRM6M-4AsS00It=s64",
      "userId": "05949857934793656557"
     },
     "user_tz": -330
    },
    "id": "8ZbTO7nyFgM9",
    "outputId": "8deadbb4-5754-4db3-d4ee-66f273327562"
   },
   "outputs": [
    {
     "data": {
      "text/plain": [
       "4792"
      ]
     },
     "execution_count": 17,
     "metadata": {},
     "output_type": "execute_result"
    }
   ],
   "source": [
    "len(data.loc['1990-01-02':'2009-01-02'])"
   ]
  },
  {
   "cell_type": "code",
   "execution_count": 18,
   "metadata": {
    "colab": {
     "base_uri": "https://localhost:8080/",
     "height": 455
    },
    "executionInfo": {
     "elapsed": 69,
     "status": "ok",
     "timestamp": 1639538419571,
     "user": {
      "displayName": "Himanshu Agrawal",
      "photoUrl": "https://lh3.googleusercontent.com/a-/AOh14GjP7W2fN8WTbaE8Cz4sW8MWqtRRM6M-4AsS00It=s64",
      "userId": "05949857934793656557"
     },
     "user_tz": -330
    },
    "id": "JsUrEcqfFj3L",
    "outputId": "63d85677-0880-4af6-f136-ecfbf1516cdf"
   },
   "outputs": [
    {
     "data": {
      "text/html": [
       "<div>\n",
       "<style scoped>\n",
       "    .dataframe tbody tr th:only-of-type {\n",
       "        vertical-align: middle;\n",
       "    }\n",
       "\n",
       "    .dataframe tbody tr th {\n",
       "        vertical-align: top;\n",
       "    }\n",
       "\n",
       "    .dataframe thead th {\n",
       "        text-align: right;\n",
       "    }\n",
       "</style>\n",
       "<table border=\"1\" class=\"dataframe\">\n",
       "  <thead>\n",
       "    <tr style=\"text-align: right;\">\n",
       "      <th></th>\n",
       "      <th>Avg_price</th>\n",
       "    </tr>\n",
       "    <tr>\n",
       "      <th>Date</th>\n",
       "      <th></th>\n",
       "    </tr>\n",
       "  </thead>\n",
       "  <tbody>\n",
       "    <tr>\n",
       "      <th>2009-01-05</th>\n",
       "      <td>3.373036</td>\n",
       "    </tr>\n",
       "    <tr>\n",
       "      <th>2009-01-06</th>\n",
       "      <td>3.385000</td>\n",
       "    </tr>\n",
       "    <tr>\n",
       "      <th>2009-01-07</th>\n",
       "      <td>3.263571</td>\n",
       "    </tr>\n",
       "    <tr>\n",
       "      <th>2009-01-08</th>\n",
       "      <td>3.271250</td>\n",
       "    </tr>\n",
       "    <tr>\n",
       "      <th>2009-01-09</th>\n",
       "      <td>3.277143</td>\n",
       "    </tr>\n",
       "    <tr>\n",
       "      <th>...</th>\n",
       "      <td>...</td>\n",
       "    </tr>\n",
       "    <tr>\n",
       "      <th>2021-11-23</th>\n",
       "      <td>160.430001</td>\n",
       "    </tr>\n",
       "    <tr>\n",
       "      <th>2021-11-24</th>\n",
       "      <td>160.889999</td>\n",
       "    </tr>\n",
       "    <tr>\n",
       "      <th>2021-11-26</th>\n",
       "      <td>158.404999</td>\n",
       "    </tr>\n",
       "    <tr>\n",
       "      <th>2021-11-29</th>\n",
       "      <td>159.989997</td>\n",
       "    </tr>\n",
       "    <tr>\n",
       "      <th>2021-11-30</th>\n",
       "      <td>162.720001</td>\n",
       "    </tr>\n",
       "  </tbody>\n",
       "</table>\n",
       "<p>3250 rows × 1 columns</p>\n",
       "</div>"
      ],
      "text/plain": [
       "             Avg_price\n",
       "Date                  \n",
       "2009-01-05    3.373036\n",
       "2009-01-06    3.385000\n",
       "2009-01-07    3.263571\n",
       "2009-01-08    3.271250\n",
       "2009-01-09    3.277143\n",
       "...                ...\n",
       "2021-11-23  160.430001\n",
       "2021-11-24  160.889999\n",
       "2021-11-26  158.404999\n",
       "2021-11-29  159.989997\n",
       "2021-11-30  162.720001\n",
       "\n",
       "[3250 rows x 1 columns]"
      ]
     },
     "execution_count": 18,
     "metadata": {},
     "output_type": "execute_result"
    }
   ],
   "source": [
    "data = data.iloc[4792:]\n",
    "data"
   ]
  },
  {
   "cell_type": "code",
   "execution_count": 19,
   "metadata": {
    "colab": {
     "base_uri": "https://localhost:8080/",
     "height": 620
    },
    "executionInfo": {
     "elapsed": 68,
     "status": "ok",
     "timestamp": 1639538419571,
     "user": {
      "displayName": "Himanshu Agrawal",
      "photoUrl": "https://lh3.googleusercontent.com/a-/AOh14GjP7W2fN8WTbaE8Cz4sW8MWqtRRM6M-4AsS00It=s64",
      "userId": "05949857934793656557"
     },
     "user_tz": -330
    },
    "id": "xXiOOzNSFozK",
    "outputId": "8dcc1f31-1e8c-4139-ded6-06efd480b363"
   },
   "outputs": [
    {
     "data": {
      "text/plain": [
       "Text(0, 0.5, 'Price')"
      ]
     },
     "execution_count": 19,
     "metadata": {},
     "output_type": "execute_result"
    },
    {
     "data": {
      "image/png": "[encoded data removed]",
      "text/plain": [
       "<Figure size 1440x720 with 1 Axes>"
      ]
     },
     "metadata": {
      "needs_background": "light"
     },
     "output_type": "display_data"
    }
   ],
   "source": [
    "plt.figure(figsize=(20,10))\n",
    "plt.plot(data)\n",
    "plt.xlabel('Year', fontsize=15)\n",
    "plt.ylabel('Price', fontsize=15)"
   ]
  },
  {
   "cell_type": "code",
   "execution_count": 20,
   "metadata": {
    "colab": {
     "base_uri": "https://localhost:8080/"
    },
    "executionInfo": {
     "elapsed": 61,
     "status": "ok",
     "timestamp": 1639538419572,
     "user": {
      "displayName": "Himanshu Agrawal",
      "photoUrl": "https://lh3.googleusercontent.com/a-/AOh14GjP7W2fN8WTbaE8Cz4sW8MWqtRRM6M-4AsS00It=s64",
      "userId": "05949857934793656557"
     },
     "user_tz": -330
    },
    "id": "17T016GeF1Up",
    "outputId": "17d5e19a-3d1a-4fcd-d325-cb83a7bfe389"
   },
   "outputs": [
    {
     "data": {
      "text/plain": [
       "3250"
      ]
     },
     "execution_count": 20,
     "metadata": {},
     "output_type": "execute_result"
    }
   ],
   "source": [
    "len(data)"
   ]
  },
  {
   "cell_type": "code",
   "execution_count": 21,
   "metadata": {
    "colab": {
     "base_uri": "https://localhost:8080/"
    },
    "executionInfo": {
     "elapsed": 59,
     "status": "ok",
     "timestamp": 1639538419573,
     "user": {
      "displayName": "Himanshu Agrawal",
      "photoUrl": "https://lh3.googleusercontent.com/a-/AOh14GjP7W2fN8WTbaE8Cz4sW8MWqtRRM6M-4AsS00It=s64",
      "userId": "05949857934793656557"
     },
     "user_tz": -330
    },
    "id": "MvQDQ8jgF5zq",
    "outputId": "829d4c25-98bb-4b21-e439-6b977c1551c6"
   },
   "outputs": [
    {
     "data": {
      "text/plain": [
       "253"
      ]
     },
     "execution_count": 21,
     "metadata": {},
     "output_type": "execute_result"
    }
   ],
   "source": [
    "# Days in a year\n",
    "len(data.loc['2009-01-05':'2010-01-05'])"
   ]
  },
  {
   "cell_type": "code",
   "execution_count": 22,
   "metadata": {
    "colab": {
     "base_uri": "https://localhost:8080/"
    },
    "executionInfo": {
     "elapsed": 57,
     "status": "ok",
     "timestamp": 1639538419573,
     "user": {
      "displayName": "Himanshu Agrawal",
      "photoUrl": "https://lh3.googleusercontent.com/a-/AOh14GjP7W2fN8WTbaE8Cz4sW8MWqtRRM6M-4AsS00It=s64",
      "userId": "05949857934793656557"
     },
     "user_tz": -330
    },
    "id": "-owfNEcLGFe7",
    "outputId": "f3b1deb3-b3f6-4f49-e27a-36cd2258dfb0"
   },
   "outputs": [
    {
     "data": {
      "text/plain": [
       "252"
      ]
     },
     "execution_count": 22,
     "metadata": {},
     "output_type": "execute_result"
    }
   ],
   "source": [
    "len(data.loc['2011-01-05':'2012-01-04'])"
   ]
  },
  {
   "cell_type": "markdown",
   "metadata": {
    "id": "4Lzyebq9E4tv"
   },
   "source": [
    "## Splitting into train and test data"
   ]
  },
  {
   "cell_type": "markdown",
   "metadata": {
    "id": "SSWIu9QjE7jw"
   },
   "source": [
    "Split the data into a train/test where the test set is the last 6 months of data.\n"
   ]
  },
  {
   "cell_type": "code",
   "execution_count": 23,
   "metadata": {
    "colab": {
     "base_uri": "https://localhost:8080/"
    },
    "executionInfo": {
     "elapsed": 55,
     "status": "ok",
     "timestamp": 1639538419574,
     "user": {
      "displayName": "Himanshu Agrawal",
      "photoUrl": "https://lh3.googleusercontent.com/a-/AOh14GjP7W2fN8WTbaE8Cz4sW8MWqtRRM6M-4AsS00It=s64",
      "userId": "05949857934793656557"
     },
     "user_tz": -330
    },
    "id": "3-QM9BK2GHpH",
    "outputId": "af01bbf9-db65-40b1-9c3a-0e1ded1af613"
   },
   "outputs": [
    {
     "data": {
      "text/plain": [
       "DatetimeIndex(['2009-01-05', '2009-01-06', '2009-01-07', '2009-01-08',\n",
       "               '2009-01-09', '2009-01-12', '2009-01-13', '2009-01-14',\n",
       "               '2009-01-15', '2009-01-16',\n",
       "               ...\n",
       "               '2021-11-16', '2021-11-17', '2021-11-18', '2021-11-19',\n",
       "               '2021-11-22', '2021-11-23', '2021-11-24', '2021-11-26',\n",
       "               '2021-11-29', '2021-11-30'],\n",
       "              dtype='datetime64[ns]', name='Date', length=3250, freq=None)"
      ]
     },
     "execution_count": 23,
     "metadata": {},
     "output_type": "execute_result"
    }
   ],
   "source": [
    "data.index"
   ]
  },
  {
   "cell_type": "code",
   "execution_count": 24,
   "metadata": {
    "colab": {
     "base_uri": "https://localhost:8080/"
    },
    "executionInfo": {
     "elapsed": 55,
     "status": "ok",
     "timestamp": 1639538419577,
     "user": {
      "displayName": "Himanshu Agrawal",
      "photoUrl": "https://lh3.googleusercontent.com/a-/AOh14GjP7W2fN8WTbaE8Cz4sW8MWqtRRM6M-4AsS00It=s64",
      "userId": "05949857934793656557"
     },
     "user_tz": -330
    },
    "id": "w3ZTp3tJGgMW",
    "outputId": "c43d855d-34b7-4616-f671-aceec688a397"
   },
   "outputs": [
    {
     "data": {
      "text/plain": [
       "128"
      ]
     },
     "execution_count": 24,
     "metadata": {},
     "output_type": "execute_result"
    }
   ],
   "source": [
    "len(data.loc['2021-05-30':'2021-11-30'])"
   ]
  },
  {
   "cell_type": "code",
   "execution_count": 25,
   "metadata": {
    "executionInfo": {
     "elapsed": 54,
     "status": "ok",
     "timestamp": 1639538419578,
     "user": {
      "displayName": "Himanshu Agrawal",
      "photoUrl": "https://lh3.googleusercontent.com/a-/AOh14GjP7W2fN8WTbaE8Cz4sW8MWqtRRM6M-4AsS00It=s64",
      "userId": "05949857934793656557"
     },
     "user_tz": -330
    },
    "id": "mEHhVsIrGkzn"
   },
   "outputs": [],
   "source": [
    "test_size = 128\n",
    "cutoff = len(data)- test_size"
   ]
  },
  {
   "cell_type": "code",
   "execution_count": 26,
   "metadata": {
    "executionInfo": {
     "elapsed": 51,
     "status": "ok",
     "timestamp": 1639538419578,
     "user": {
      "displayName": "Himanshu Agrawal",
      "photoUrl": "https://lh3.googleusercontent.com/a-/AOh14GjP7W2fN8WTbaE8Cz4sW8MWqtRRM6M-4AsS00It=s64",
      "userId": "05949857934793656557"
     },
     "user_tz": -330
    },
    "id": "kzt3AnoYGmpT"
   },
   "outputs": [],
   "source": [
    "train = data.iloc[:cutoff]\n",
    "test = data.iloc[cutoff:]"
   ]
  },
  {
   "cell_type": "code",
   "execution_count": 27,
   "metadata": {
    "colab": {
     "base_uri": "https://localhost:8080/"
    },
    "executionInfo": {
     "elapsed": 52,
     "status": "ok",
     "timestamp": 1639538419579,
     "user": {
      "displayName": "Himanshu Agrawal",
      "photoUrl": "https://lh3.googleusercontent.com/a-/AOh14GjP7W2fN8WTbaE8Cz4sW8MWqtRRM6M-4AsS00It=s64",
      "userId": "05949857934793656557"
     },
     "user_tz": -330
    },
    "id": "KuEZdlB0GpmK",
    "outputId": "bbda342e-00c0-4889-828c-e1c5c37cbbc8"
   },
   "outputs": [
    {
     "data": {
      "text/plain": [
       "3122"
      ]
     },
     "execution_count": 27,
     "metadata": {},
     "output_type": "execute_result"
    }
   ],
   "source": [
    "len(train)"
   ]
  },
  {
   "cell_type": "code",
   "execution_count": 28,
   "metadata": {
    "colab": {
     "base_uri": "https://localhost:8080/"
    },
    "executionInfo": {
     "elapsed": 49,
     "status": "ok",
     "timestamp": 1639538419579,
     "user": {
      "displayName": "Himanshu Agrawal",
      "photoUrl": "https://lh3.googleusercontent.com/a-/AOh14GjP7W2fN8WTbaE8Cz4sW8MWqtRRM6M-4AsS00It=s64",
      "userId": "05949857934793656557"
     },
     "user_tz": -330
    },
    "id": "adAdQrEGGrTb",
    "outputId": "c81c686f-744f-4555-fa2f-20e77d8ea2fb"
   },
   "outputs": [
    {
     "data": {
      "text/plain": [
       "128"
      ]
     },
     "execution_count": 28,
     "metadata": {},
     "output_type": "execute_result"
    }
   ],
   "source": [
    "len(test)"
   ]
  },
  {
   "cell_type": "markdown",
   "metadata": {
    "id": "sPoxI1dNGzQh"
   },
   "source": [
    "## Scale Data"
   ]
  },
  {
   "cell_type": "markdown",
   "metadata": {
    "id": "I-YuRlwNG4Cz"
   },
   "source": [
    "Use a MinMaxScaler to scale the train and test sets into scaled versions."
   ]
  },
  {
   "cell_type": "code",
   "execution_count": 29,
   "metadata": {
    "executionInfo": {
     "elapsed": 46,
     "status": "ok",
     "timestamp": 1639538419579,
     "user": {
      "displayName": "Himanshu Agrawal",
      "photoUrl": "https://lh3.googleusercontent.com/a-/AOh14GjP7W2fN8WTbaE8Cz4sW8MWqtRRM6M-4AsS00It=s64",
      "userId": "05949857934793656557"
     },
     "user_tz": -330
    },
    "id": "sXLWqPZaG5PW"
   },
   "outputs": [],
   "source": [
    "scaler = MinMaxScaler()"
   ]
  },
  {
   "cell_type": "code",
   "execution_count": 30,
   "metadata": {
    "colab": {
     "base_uri": "https://localhost:8080/"
    },
    "executionInfo": {
     "elapsed": 46,
     "status": "ok",
     "timestamp": 1639538419580,
     "user": {
      "displayName": "Himanshu Agrawal",
      "photoUrl": "https://lh3.googleusercontent.com/a-/AOh14GjP7W2fN8WTbaE8Cz4sW8MWqtRRM6M-4AsS00It=s64",
      "userId": "05949857934793656557"
     },
     "user_tz": -330
    },
    "id": "fXkX4SSxG-E9",
    "outputId": "15260a9a-e861-481e-b026-9ed71e267a56"
   },
   "outputs": [
    {
     "data": {
      "text/plain": [
       "MinMaxScaler()"
      ]
     },
     "execution_count": 30,
     "metadata": {},
     "output_type": "execute_result"
    }
   ],
   "source": [
    "# WE ONLY FIT TO TRAININ DATA, OTHERWISE WE ARE CHEATING ASSUMING INFO ABOUT TEST SET\n",
    "scaler.fit(train)"
   ]
  },
  {
   "cell_type": "code",
   "execution_count": 31,
   "metadata": {
    "executionInfo": {
     "elapsed": 44,
     "status": "ok",
     "timestamp": 1639538419580,
     "user": {
      "displayName": "Himanshu Agrawal",
      "photoUrl": "https://lh3.googleusercontent.com/a-/AOh14GjP7W2fN8WTbaE8Cz4sW8MWqtRRM6M-4AsS00It=s64",
      "userId": "05949857934793656557"
     },
     "user_tz": -330
    },
    "id": "2cjPgUwSHAtA"
   },
   "outputs": [],
   "source": [
    "scaled_train = scaler.transform(train)\n",
    "scaled_test = scaler.transform(test)"
   ]
  },
  {
   "cell_type": "code",
   "execution_count": 31,
   "metadata": {
    "executionInfo": {
     "elapsed": 43,
     "status": "ok",
     "timestamp": 1639538419580,
     "user": {
      "displayName": "Himanshu Agrawal",
      "photoUrl": "https://lh3.googleusercontent.com/a-/AOh14GjP7W2fN8WTbaE8Cz4sW8MWqtRRM6M-4AsS00It=s64",
      "userId": "05949857934793656557"
     },
     "user_tz": -330
    },
    "id": "2MPP7rjWHDHb"
   },
   "outputs": [],
   "source": []
  },
  {
   "cell_type": "markdown",
   "metadata": {
    "id": "2U6AtaXPHF9v"
   },
   "source": [
    "## Time Series Generator"
   ]
  },
  {
   "cell_type": "code",
   "execution_count": 31,
   "metadata": {
    "executionInfo": {
     "elapsed": 44,
     "status": "ok",
     "timestamp": 1639538419581,
     "user": {
      "displayName": "Himanshu Agrawal",
      "photoUrl": "https://lh3.googleusercontent.com/a-/AOh14GjP7W2fN8WTbaE8Cz4sW8MWqtRRM6M-4AsS00It=s64",
      "userId": "05949857934793656557"
     },
     "user_tz": -330
    },
    "id": "pS3EAGcPHGX3"
   },
   "outputs": [],
   "source": []
  },
  {
   "cell_type": "markdown",
   "metadata": {
    "id": "R5QulOFRHJog"
   },
   "source": [
    "Create a TimeSeriesGenerator object based off the scaled_train data. length should be eual to the number that can capture the seasonality or patten or behaviour how prices increase or decrese in a cycle."
   ]
  },
  {
   "cell_type": "code",
   "execution_count": 32,
   "metadata": {
    "executionInfo": {
     "elapsed": 45,
     "status": "ok",
     "timestamp": 1639538419582,
     "user": {
      "displayName": "Himanshu Agrawal",
      "photoUrl": "https://lh3.googleusercontent.com/a-/AOh14GjP7W2fN8WTbaE8Cz4sW8MWqtRRM6M-4AsS00It=s64",
      "userId": "05949857934793656557"
     },
     "user_tz": -330
    },
    "id": "fcN0u3EcHLae"
   },
   "outputs": [],
   "source": [
    "from tensorflow.keras.preprocessing.sequence import TimeseriesGenerator\n",
    "length = 126 #(6 months days considering 252 average days in a year)\n",
    "generator = TimeseriesGenerator(scaled_train, scaled_train, length=length, batch_size=32)"
   ]
  },
  {
   "cell_type": "code",
   "execution_count": 32,
   "metadata": {
    "executionInfo": {
     "elapsed": 45,
     "status": "ok",
     "timestamp": 1639538419583,
     "user": {
      "displayName": "Himanshu Agrawal",
      "photoUrl": "https://lh3.googleusercontent.com/a-/AOh14GjP7W2fN8WTbaE8Cz4sW8MWqtRRM6M-4AsS00It=s64",
      "userId": "05949857934793656557"
     },
     "user_tz": -330
    },
    "id": "vFBuxV_1HUZm"
   },
   "outputs": [],
   "source": []
  },
  {
   "cell_type": "markdown",
   "metadata": {
    "id": "G-XWuVJGHXaJ"
   },
   "source": [
    "## Create the Model"
   ]
  },
  {
   "cell_type": "code",
   "execution_count": 33,
   "metadata": {
    "executionInfo": {
     "elapsed": 45,
     "status": "ok",
     "timestamp": 1639538419583,
     "user": {
      "displayName": "Himanshu Agrawal",
      "photoUrl": "https://lh3.googleusercontent.com/a-/AOh14GjP7W2fN8WTbaE8Cz4sW8MWqtRRM6M-4AsS00It=s64",
      "userId": "05949857934793656557"
     },
     "user_tz": -330
    },
    "id": "Vb4cGBQPHYHL"
   },
   "outputs": [],
   "source": [
    "from tensorflow.keras.layers import Dropout"
   ]
  },
  {
   "cell_type": "code",
   "execution_count": 34,
   "metadata": {
    "executionInfo": {
     "elapsed": 46,
     "status": "ok",
     "timestamp": 1639538419584,
     "user": {
      "displayName": "Himanshu Agrawal",
      "photoUrl": "https://lh3.googleusercontent.com/a-/AOh14GjP7W2fN8WTbaE8Cz4sW8MWqtRRM6M-4AsS00It=s64",
      "userId": "05949857934793656557"
     },
     "user_tz": -330
    },
    "id": "HeEMObJIHajT"
   },
   "outputs": [],
   "source": [
    "model = Sequential()\n",
    "n_features = 1\n",
    "\n",
    "model.add(LSTM(100, input_shape=(length, n_features), return_sequences=True))\n",
    "model.add(Dropout(0.3))\n",
    "model.add(LSTM(50, return_sequences=True))\n",
    "model.add(Dropout(0.25))\n",
    "model.add(LSTM(25))\n",
    "model.add(Dropout(0.2))\n",
    "\n",
    "model.add(Dense(1))\n",
    "model.compile(optimizer='adam', loss='mse')"
   ]
  },
  {
   "cell_type": "code",
   "execution_count": 35,
   "metadata": {
    "executionInfo": {
     "elapsed": 45,
     "status": "ok",
     "timestamp": 1639538419584,
     "user": {
      "displayName": "Himanshu Agrawal",
      "photoUrl": "https://lh3.googleusercontent.com/a-/AOh14GjP7W2fN8WTbaE8Cz4sW8MWqtRRM6M-4AsS00It=s64",
      "userId": "05949857934793656557"
     },
     "user_tz": -330
    },
    "id": "H8xaEO3RHhpi"
   },
   "outputs": [],
   "source": [
    "X,y = generator[0]"
   ]
  },
  {
   "cell_type": "code",
   "execution_count": 36,
   "metadata": {
    "colab": {
     "base_uri": "https://localhost:8080/"
    },
    "executionInfo": {
     "elapsed": 46,
     "status": "ok",
     "timestamp": 1639538419585,
     "user": {
      "displayName": "Himanshu Agrawal",
      "photoUrl": "https://lh3.googleusercontent.com/a-/AOh14GjP7W2fN8WTbaE8Cz4sW8MWqtRRM6M-4AsS00It=s64",
      "userId": "05949857934793656557"
     },
     "user_tz": -330
    },
    "id": "aBNF5pa_HkKt",
    "outputId": "88840d54-eb2c-431c-e15a-97cb83895c92"
   },
   "outputs": [
    {
     "data": {
      "text/plain": [
       "(32, 126, 1)"
      ]
     },
     "execution_count": 36,
     "metadata": {},
     "output_type": "execute_result"
    }
   ],
   "source": [
    "X.shape"
   ]
  },
  {
   "cell_type": "code",
   "execution_count": 37,
   "metadata": {
    "colab": {
     "base_uri": "https://localhost:8080/"
    },
    "executionInfo": {
     "elapsed": 41,
     "status": "ok",
     "timestamp": 1639538419585,
     "user": {
      "displayName": "Himanshu Agrawal",
      "photoUrl": "https://lh3.googleusercontent.com/a-/AOh14GjP7W2fN8WTbaE8Cz4sW8MWqtRRM6M-4AsS00It=s64",
      "userId": "05949857934793656557"
     },
     "user_tz": -330
    },
    "id": "RyOMUBkmHm-i",
    "outputId": "f9c3eaeb-c244-4634-ee44-d74979d166e1"
   },
   "outputs": [
    {
     "data": {
      "text/plain": [
       "(32, 1)"
      ]
     },
     "execution_count": 37,
     "metadata": {},
     "output_type": "execute_result"
    }
   ],
   "source": [
    "y.shape"
   ]
  },
  {
   "cell_type": "code",
   "execution_count": 38,
   "metadata": {
    "colab": {
     "base_uri": "https://localhost:8080/"
    },
    "executionInfo": {
     "elapsed": 39,
     "status": "ok",
     "timestamp": 1639538419586,
     "user": {
      "displayName": "Himanshu Agrawal",
      "photoUrl": "https://lh3.googleusercontent.com/a-/AOh14GjP7W2fN8WTbaE8Cz4sW8MWqtRRM6M-4AsS00It=s64",
      "userId": "05949857934793656557"
     },
     "user_tz": -330
    },
    "id": "DGE9dvDWHpau",
    "outputId": "649ade3f-804b-4248-8b04-6a129c56b79c"
   },
   "outputs": [
    {
     "name": "stdout",
     "output_type": "stream",
     "text": [
      "Model: \"sequential\"\n",
      "_________________________________________________________________\n",
      " Layer (type)                Output Shape              Param #   \n",
      "=================================================================\n",
      " lstm (LSTM)                 (None, 126, 100)          40800     \n",
      "                                                                 \n",
      " dropout (Dropout)           (None, 126, 100)          0         \n",
      "                                                                 \n",
      " lstm_1 (LSTM)               (None, 126, 50)           30200     \n",
      "                                                                 \n",
      " dropout_1 (Dropout)         (None, 126, 50)           0         \n",
      "                                                                 \n",
      " lstm_2 (LSTM)               (None, 25)                7600      \n",
      "                                                                 \n",
      " dropout_2 (Dropout)         (None, 25)                0         \n",
      "                                                                 \n",
      " dense (Dense)               (None, 1)                 26        \n",
      "                                                                 \n",
      "=================================================================\n",
      "Total params: 78,626\n",
      "Trainable params: 78,626\n",
      "Non-trainable params: 0\n",
      "_________________________________________________________________\n"
     ]
    }
   ],
   "source": [
    "model.summary()"
   ]
  },
  {
   "cell_type": "code",
   "execution_count": 39,
   "metadata": {
    "executionInfo": {
     "elapsed": 1903,
     "status": "ok",
     "timestamp": 1639538421452,
     "user": {
      "displayName": "Himanshu Agrawal",
      "photoUrl": "https://lh3.googleusercontent.com/a-/AOh14GjP7W2fN8WTbaE8Cz4sW8MWqtRRM6M-4AsS00It=s64",
      "userId": "05949857934793656557"
     },
     "user_tz": -330
    },
    "id": "TaJqSGYaHrmC"
   },
   "outputs": [],
   "source": [
    "validation_generator = TimeseriesGenerator(scaled_test,scaled_test, length=length, batch_size=32)"
   ]
  },
  {
   "cell_type": "code",
   "execution_count": 40,
   "metadata": {
    "executionInfo": {
     "elapsed": 19,
     "status": "ok",
     "timestamp": 1639538421452,
     "user": {
      "displayName": "Himanshu Agrawal",
      "photoUrl": "https://lh3.googleusercontent.com/a-/AOh14GjP7W2fN8WTbaE8Cz4sW8MWqtRRM6M-4AsS00It=s64",
      "userId": "05949857934793656557"
     },
     "user_tz": -330
    },
    "id": "eEnnDWImHuxv"
   },
   "outputs": [],
   "source": [
    "from tensorflow.keras.callbacks import EarlyStopping\n",
    "early_stop = EarlyStopping(monitor='val_loss',patience=10)"
   ]
  },
  {
   "cell_type": "code",
   "execution_count": 41,
   "metadata": {
    "colab": {
     "base_uri": "https://localhost:8080/"
    },
    "executionInfo": {
     "elapsed": 626644,
     "status": "ok",
     "timestamp": 1639539048078,
     "user": {
      "displayName": "Himanshu Agrawal",
      "photoUrl": "https://lh3.googleusercontent.com/a-/AOh14GjP7W2fN8WTbaE8Cz4sW8MWqtRRM6M-4AsS00It=s64",
      "userId": "05949857934793656557"
     },
     "user_tz": -330
    },
    "id": "8M4q4nbbHxbh",
    "outputId": "964f31b6-83bb-4e7b-b827-ae7249d65a8c"
   },
   "outputs": [
    {
     "name": "stderr",
     "output_type": "stream",
     "text": [
      "/usr/local/lib/python3.7/dist-packages/ipykernel_launcher.py:4: UserWarning: `Model.fit_generator` is deprecated and will be removed in a future version. Please use `Model.fit`, which supports generators.\n",
      "  after removing the cwd from sys.path.\n"
     ]
    },
    {
     "name": "stdout",
     "output_type": "stream",
     "text": [
      "Epoch 1/40\n",
      "94/94 [==============================] - 26s 218ms/step - loss: 0.0133 - val_loss: 0.0392\n",
      "Epoch 2/40\n",
      "94/94 [==============================] - 19s 205ms/step - loss: 0.0134 - val_loss: 0.0461\n",
      "Epoch 3/40\n",
      "94/94 [==============================] - 20s 209ms/step - loss: 0.0055 - val_loss: 0.0642\n",
      "Epoch 4/40\n",
      "94/94 [==============================] - 20s 213ms/step - loss: 0.0024 - val_loss: 0.0235\n",
      "Epoch 5/40\n",
      "94/94 [==============================] - 20s 213ms/step - loss: 0.0020 - val_loss: 0.0310\n",
      "Epoch 6/40\n",
      "94/94 [==============================] - 20s 210ms/step - loss: 0.0022 - val_loss: 0.0330\n",
      "Epoch 7/40\n",
      "94/94 [==============================] - 20s 209ms/step - loss: 0.0021 - val_loss: 0.0019\n",
      "Epoch 8/40\n",
      "94/94 [==============================] - 20s 210ms/step - loss: 0.0022 - val_loss: 0.0127\n",
      "Epoch 9/40\n",
      "94/94 [==============================] - 20s 208ms/step - loss: 0.0030 - val_loss: 0.0067\n",
      "Epoch 10/40\n",
      "94/94 [==============================] - 20s 211ms/step - loss: 0.0017 - val_loss: 0.0042\n",
      "Epoch 11/40\n",
      "94/94 [==============================] - 20s 210ms/step - loss: 0.0024 - val_loss: 0.0647\n",
      "Epoch 12/40\n",
      "94/94 [==============================] - 20s 209ms/step - loss: 0.0019 - val_loss: 0.0181\n",
      "Epoch 13/40\n",
      "94/94 [==============================] - 20s 208ms/step - loss: 0.0014 - val_loss: 0.0086\n",
      "Epoch 14/40\n",
      "94/94 [==============================] - 19s 206ms/step - loss: 0.0018 - val_loss: 0.0021\n",
      "Epoch 15/40\n",
      "94/94 [==============================] - 19s 206ms/step - loss: 0.0022 - val_loss: 0.0042\n",
      "Epoch 16/40\n",
      "94/94 [==============================] - 20s 207ms/step - loss: 0.0020 - val_loss: 0.0018\n",
      "Epoch 17/40\n",
      "94/94 [==============================] - 20s 208ms/step - loss: 0.0014 - val_loss: 0.0118\n",
      "Epoch 18/40\n",
      "94/94 [==============================] - 20s 210ms/step - loss: 0.0021 - val_loss: 0.1731\n",
      "Epoch 19/40\n",
      "94/94 [==============================] - 20s 210ms/step - loss: 0.0023 - val_loss: 0.0157\n",
      "Epoch 20/40\n",
      "94/94 [==============================] - 20s 212ms/step - loss: 0.0013 - val_loss: 0.0461\n",
      "Epoch 21/40\n",
      "94/94 [==============================] - 20s 209ms/step - loss: 0.0023 - val_loss: 1.0788e-04\n",
      "Epoch 22/40\n",
      "94/94 [==============================] - 20s 208ms/step - loss: 0.0026 - val_loss: 0.0041\n",
      "Epoch 23/40\n",
      "94/94 [==============================] - 20s 208ms/step - loss: 0.0020 - val_loss: 0.0257\n",
      "Epoch 24/40\n",
      "94/94 [==============================] - 20s 213ms/step - loss: 0.0012 - val_loss: 0.0035\n",
      "Epoch 25/40\n",
      "94/94 [==============================] - 20s 212ms/step - loss: 0.0014 - val_loss: 0.0163\n",
      "Epoch 26/40\n",
      "94/94 [==============================] - 20s 212ms/step - loss: 0.0011 - val_loss: 0.0106\n",
      "Epoch 27/40\n",
      "94/94 [==============================] - 20s 211ms/step - loss: 0.0012 - val_loss: 0.0020\n",
      "Epoch 28/40\n",
      "94/94 [==============================] - 20s 213ms/step - loss: 0.0018 - val_loss: 0.0051\n",
      "Epoch 29/40\n",
      "94/94 [==============================] - 20s 213ms/step - loss: 0.0016 - val_loss: 8.5186e-04\n",
      "Epoch 30/40\n",
      "94/94 [==============================] - 20s 215ms/step - loss: 0.0013 - val_loss: 0.0109\n",
      "Epoch 31/40\n",
      "94/94 [==============================] - 20s 214ms/step - loss: 0.0012 - val_loss: 0.0027\n"
     ]
    },
    {
     "data": {
      "text/plain": [
       "<keras.callbacks.History at 0x7f943757e890>"
      ]
     },
     "execution_count": 41,
     "metadata": {},
     "output_type": "execute_result"
    }
   ],
   "source": [
    "# fit model\n",
    "model.fit_generator(generator,epochs=40,\n",
    "                    validation_data=validation_generator,\n",
    "                    callbacks=[early_stop])"
   ]
  },
  {
   "cell_type": "code",
   "execution_count": 42,
   "metadata": {
    "colab": {
     "base_uri": "https://localhost:8080/",
     "height": 283
    },
    "executionInfo": {
     "elapsed": 47,
     "status": "ok",
     "timestamp": 1639539048079,
     "user": {
      "displayName": "Himanshu Agrawal",
      "photoUrl": "https://lh3.googleusercontent.com/a-/AOh14GjP7W2fN8WTbaE8Cz4sW8MWqtRRM6M-4AsS00It=s64",
      "userId": "05949857934793656557"
     },
     "user_tz": -330
    },
    "id": "Pe_5GljsH656",
    "outputId": "644e1bad-39da-43f3-9db0-5df9e4ffa48e"
   },
   "outputs": [
    {
     "data": {
      "text/plain": [
       "<matplotlib.axes._subplots.AxesSubplot at 0x7f942f37e990>"
      ]
     },
     "execution_count": 42,
     "metadata": {},
     "output_type": "execute_result"
    },
    {
     "data": {
      "image/png": "[encoded data removed]",
      "text/plain": [
       "<Figure size 432x288 with 1 Axes>"
      ]
     },
     "metadata": {
      "needs_background": "light"
     },
     "output_type": "display_data"
    }
   ],
   "source": [
    "loss = pd.DataFrame(model.history.history)\n",
    "loss.plot()"
   ]
  },
  {
   "cell_type": "code",
   "execution_count": 42,
   "metadata": {
    "executionInfo": {
     "elapsed": 13,
     "status": "ok",
     "timestamp": 1639539048080,
     "user": {
      "displayName": "Himanshu Agrawal",
      "photoUrl": "https://lh3.googleusercontent.com/a-/AOh14GjP7W2fN8WTbaE8Cz4sW8MWqtRRM6M-4AsS00It=s64",
      "userId": "05949857934793656557"
     },
     "user_tz": -330
    },
    "id": "shmVp1ezH-2Z"
   },
   "outputs": [],
   "source": []
  },
  {
   "cell_type": "markdown",
   "metadata": {
    "id": "SM6aClRrICIh"
   },
   "source": [
    "## Method 1 for prediction"
   ]
  },
  {
   "cell_type": "code",
   "execution_count": 43,
   "metadata": {
    "executionInfo": {
     "elapsed": 9864,
     "status": "ok",
     "timestamp": 1639539057932,
     "user": {
      "displayName": "Himanshu Agrawal",
      "photoUrl": "https://lh3.googleusercontent.com/a-/AOh14GjP7W2fN8WTbaE8Cz4sW8MWqtRRM6M-4AsS00It=s64",
      "userId": "05949857934793656557"
     },
     "user_tz": -330
    },
    "id": "QSXxMBdZIIvy"
   },
   "outputs": [],
   "source": [
    "test_predictions = []\n",
    "\n",
    "first_eval_batch = scaled_train[-length:]\n",
    "current_batch = first_eval_batch.reshape((1, length, n_features))\n",
    "\n",
    "for i in range(len(test)):\n",
    "    \n",
    "    # get prediction 1 time stamp ahead ([0] is for grabbing just the number instead of [array])\n",
    "    current_pred = model.predict(current_batch)[0]\n",
    "    \n",
    "    # store prediction\n",
    "    test_predictions.append(current_pred) \n",
    "    \n",
    "    # update batch to now include prediction and drop first value\n",
    "    current_batch = np.append(current_batch[:,1:,:],[[current_pred]],axis=1)"
   ]
  },
  {
   "cell_type": "code",
   "execution_count": 44,
   "metadata": {
    "colab": {
     "base_uri": "https://localhost:8080/",
     "height": 559
    },
    "executionInfo": {
     "elapsed": 52,
     "status": "ok",
     "timestamp": 1639539057933,
     "user": {
      "displayName": "Himanshu Agrawal",
      "photoUrl": "https://lh3.googleusercontent.com/a-/AOh14GjP7W2fN8WTbaE8Cz4sW8MWqtRRM6M-4AsS00It=s64",
      "userId": "05949857934793656557"
     },
     "user_tz": -330
    },
    "id": "KI1CNZnTIKMz",
    "outputId": "c3037271-2940-4bc7-9083-bf67148b7d35"
   },
   "outputs": [
    {
     "name": "stderr",
     "output_type": "stream",
     "text": [
      "/usr/local/lib/python3.7/dist-packages/ipykernel_launcher.py:2: SettingWithCopyWarning: \n",
      "A value is trying to be set on a copy of a slice from a DataFrame.\n",
      "Try using .loc[row_indexer,col_indexer] = value instead\n",
      "\n",
      "See the caveats in the documentation: https://pandas.pydata.org/pandas-docs/stable/user_guide/indexing.html#returning-a-view-versus-a-copy\n",
      "  \n"
     ]
    },
    {
     "data": {
      "text/html": [
       "<div>\n",
       "<style scoped>\n",
       "    .dataframe tbody tr th:only-of-type {\n",
       "        vertical-align: middle;\n",
       "    }\n",
       "\n",
       "    .dataframe tbody tr th {\n",
       "        vertical-align: top;\n",
       "    }\n",
       "\n",
       "    .dataframe thead th {\n",
       "        text-align: right;\n",
       "    }\n",
       "</style>\n",
       "<table border=\"1\" class=\"dataframe\">\n",
       "  <thead>\n",
       "    <tr style=\"text-align: right;\">\n",
       "      <th></th>\n",
       "      <th>Avg_price</th>\n",
       "      <th>Predictions</th>\n",
       "    </tr>\n",
       "    <tr>\n",
       "      <th>Date</th>\n",
       "      <th></th>\n",
       "      <th></th>\n",
       "    </tr>\n",
       "  </thead>\n",
       "  <tbody>\n",
       "    <tr>\n",
       "      <th>2021-06-01</th>\n",
       "      <td>124.645000</td>\n",
       "      <td>131.210033</td>\n",
       "    </tr>\n",
       "    <tr>\n",
       "      <th>2021-06-02</th>\n",
       "      <td>124.645001</td>\n",
       "      <td>131.400289</td>\n",
       "    </tr>\n",
       "    <tr>\n",
       "      <th>2021-06-03</th>\n",
       "      <td>123.989998</td>\n",
       "      <td>131.725954</td>\n",
       "    </tr>\n",
       "    <tr>\n",
       "      <th>2021-06-04</th>\n",
       "      <td>125.005001</td>\n",
       "      <td>132.177200</td>\n",
       "    </tr>\n",
       "    <tr>\n",
       "      <th>2021-06-07</th>\n",
       "      <td>125.575001</td>\n",
       "      <td>132.723891</td>\n",
       "    </tr>\n",
       "    <tr>\n",
       "      <th>...</th>\n",
       "      <td>...</td>\n",
       "      <td>...</td>\n",
       "    </tr>\n",
       "    <tr>\n",
       "      <th>2021-11-23</th>\n",
       "      <td>160.430001</td>\n",
       "      <td>148.372410</td>\n",
       "    </tr>\n",
       "    <tr>\n",
       "      <th>2021-11-24</th>\n",
       "      <td>160.889999</td>\n",
       "      <td>148.373828</td>\n",
       "    </tr>\n",
       "    <tr>\n",
       "      <th>2021-11-26</th>\n",
       "      <td>158.404999</td>\n",
       "      <td>148.375196</td>\n",
       "    </tr>\n",
       "    <tr>\n",
       "      <th>2021-11-29</th>\n",
       "      <td>159.989997</td>\n",
       "      <td>148.376481</td>\n",
       "    </tr>\n",
       "    <tr>\n",
       "      <th>2021-11-30</th>\n",
       "      <td>162.720001</td>\n",
       "      <td>148.377682</td>\n",
       "    </tr>\n",
       "  </tbody>\n",
       "</table>\n",
       "<p>128 rows × 2 columns</p>\n",
       "</div>"
      ],
      "text/plain": [
       "             Avg_price  Predictions\n",
       "Date                               \n",
       "2021-06-01  124.645000   131.210033\n",
       "2021-06-02  124.645001   131.400289\n",
       "2021-06-03  123.989998   131.725954\n",
       "2021-06-04  125.005001   132.177200\n",
       "2021-06-07  125.575001   132.723891\n",
       "...                ...          ...\n",
       "2021-11-23  160.430001   148.372410\n",
       "2021-11-24  160.889999   148.373828\n",
       "2021-11-26  158.404999   148.375196\n",
       "2021-11-29  159.989997   148.376481\n",
       "2021-11-30  162.720001   148.377682\n",
       "\n",
       "[128 rows x 2 columns]"
      ]
     },
     "execution_count": 44,
     "metadata": {},
     "output_type": "execute_result"
    }
   ],
   "source": [
    "true_predictions = scaler.inverse_transform(test_predictions)\n",
    "test['Predictions'] = true_predictions\n",
    "test"
   ]
  },
  {
   "cell_type": "code",
   "execution_count": 45,
   "metadata": {
    "colab": {
     "base_uri": "https://localhost:8080/",
     "height": 519
    },
    "executionInfo": {
     "elapsed": 15,
     "status": "ok",
     "timestamp": 1639539057933,
     "user": {
      "displayName": "Himanshu Agrawal",
      "photoUrl": "https://lh3.googleusercontent.com/a-/AOh14GjP7W2fN8WTbaE8Cz4sW8MWqtRRM6M-4AsS00It=s64",
      "userId": "05949857934793656557"
     },
     "user_tz": -330
    },
    "id": "Oig8kmJbIXta",
    "outputId": "17042eb9-1576-4562-a39a-ced1b424bb8f"
   },
   "outputs": [
    {
     "data": {
      "text/plain": [
       "[<matplotlib.lines.Line2D at 0x7f942f283610>,\n",
       " <matplotlib.lines.Line2D at 0x7f9431b51e90>]"
      ]
     },
     "execution_count": 45,
     "metadata": {},
     "output_type": "execute_result"
    },
    {
     "data": {
      "image/png": "[encoded data removed]",
      "text/plain": [
       "<Figure size 1080x576 with 1 Axes>"
      ]
     },
     "metadata": {
      "needs_background": "light"
     },
     "output_type": "display_data"
    }
   ],
   "source": [
    "plt.figure(figsize=(15,8))\n",
    "plt.plot(test)"
   ]
  },
  {
   "cell_type": "code",
   "execution_count": 45,
   "metadata": {
    "executionInfo": {
     "elapsed": 10,
     "status": "ok",
     "timestamp": 1639539057934,
     "user": {
      "displayName": "Himanshu Agrawal",
      "photoUrl": "https://lh3.googleusercontent.com/a-/AOh14GjP7W2fN8WTbaE8Cz4sW8MWqtRRM6M-4AsS00It=s64",
      "userId": "05949857934793656557"
     },
     "user_tz": -330
    },
    "id": "Y6kZu-FkIZHP"
   },
   "outputs": [],
   "source": []
  },
  {
   "cell_type": "markdown",
   "metadata": {
    "id": "5VP6HddyIeIk"
   },
   "source": [
    "### Calculate RMSE"
   ]
  },
  {
   "cell_type": "code",
   "execution_count": 46,
   "metadata": {
    "colab": {
     "base_uri": "https://localhost:8080/"
    },
    "executionInfo": {
     "elapsed": 778,
     "status": "ok",
     "timestamp": 1639539058703,
     "user": {
      "displayName": "Himanshu Agrawal",
      "photoUrl": "https://lh3.googleusercontent.com/a-/AOh14GjP7W2fN8WTbaE8Cz4sW8MWqtRRM6M-4AsS00It=s64",
      "userId": "05949857934793656557"
     },
     "user_tz": -330
    },
    "id": "faz-9-LkIfrX",
    "outputId": "b3ce8d0f-9b8d-4a20-be82-0880c12889ba"
   },
   "outputs": [
    {
     "data": {
      "text/plain": [
       "5.102561822420294"
      ]
     },
     "execution_count": 46,
     "metadata": {},
     "output_type": "execute_result"
    }
   ],
   "source": [
    "from sklearn.metrics import mean_squared_error\n",
    "np.sqrt(mean_squared_error(test['Avg_price'],test['Predictions']))"
   ]
  },
  {
   "cell_type": "markdown",
   "metadata": {
    "id": "uu4EPkPdInzJ"
   },
   "source": [
    "## Method 2 for prediction"
   ]
  },
  {
   "cell_type": "code",
   "execution_count": 49,
   "metadata": {
    "colab": {
     "base_uri": "https://localhost:8080/"
    },
    "executionInfo": {
     "elapsed": 773,
     "status": "ok",
     "timestamp": 1639539234518,
     "user": {
      "displayName": "Himanshu Agrawal",
      "photoUrl": "https://lh3.googleusercontent.com/a-/AOh14GjP7W2fN8WTbaE8Cz4sW8MWqtRRM6M-4AsS00It=s64",
      "userId": "05949857934793656557"
     },
     "user_tz": -330
    },
    "id": "CFAuBFBqIqJo",
    "outputId": "0aeff971-6866-4da3-ed57-58216deb2006"
   },
   "outputs": [
    {
     "name": "stderr",
     "output_type": "stream",
     "text": [
      "/usr/local/lib/python3.7/dist-packages/sklearn/base.py:446: UserWarning: X does not have valid feature names, but MinMaxScaler was fitted with feature names\n",
      "  \"X does not have valid feature names, but\"\n"
     ]
    }
   ],
   "source": [
    "data_test = test['Avg_price'].values\n",
    "data_avg_price = data['Avg_price']\n",
    "inputs = data_avg_price[len(data_avg_price) - test_size - 126:].values\n",
    "inputs = inputs.reshape(-1,1)\n",
    "inputs = scaler.transform(inputs)\n",
    "X_test = []\n",
    "for i in range(126, inputs.shape[0]):\n",
    "    X_test.append(inputs[i-126:i, 0])\n",
    "X_test = np.array(X_test)\n",
    "X_test.reshape(X_test.shape[0], X_test.shape[1], 1)\n",
    "preds= model.predict(X_test)\n",
    "preds = scaler.inverse_transform(preds)"
   ]
  },
  {
   "cell_type": "code",
   "execution_count": 50,
   "metadata": {
    "colab": {
     "base_uri": "https://localhost:8080/",
     "height": 498
    },
    "executionInfo": {
     "elapsed": 981,
     "status": "ok",
     "timestamp": 1639539245978,
     "user": {
      "displayName": "Himanshu Agrawal",
      "photoUrl": "https://lh3.googleusercontent.com/a-/AOh14GjP7W2fN8WTbaE8Cz4sW8MWqtRRM6M-4AsS00It=s64",
      "userId": "05949857934793656557"
     },
     "user_tz": -330
    },
    "id": "jOPtg1onItEE",
    "outputId": "68270eea-1005-4bbd-e09a-5e02d8d22eb6"
   },
   "outputs": [
    {
     "data": {
      "image/png": "[encoded data removed]",
      "text/plain": [
       "<Figure size 1080x576 with 1 Axes>"
      ]
     },
     "metadata": {
      "needs_background": "light"
     },
     "output_type": "display_data"
    }
   ],
   "source": [
    "plt.figure(figsize=(15,8))\n",
    "plt.plot(data_test, label = 'Real price')\n",
    "plt.plot(preds, label = 'Predicted price')\n",
    "plt.ylabel('AAPL stock price')\n",
    "plt.xlabel('time')\n",
    "plt.legend()\n",
    "plt.show()"
   ]
  },
  {
   "cell_type": "code",
   "execution_count": 51,
   "metadata": {
    "colab": {
     "base_uri": "https://localhost:8080/"
    },
    "executionInfo": {
     "elapsed": 14,
     "status": "ok",
     "timestamp": 1639539246775,
     "user": {
      "displayName": "Himanshu Agrawal",
      "photoUrl": "https://lh3.googleusercontent.com/a-/AOh14GjP7W2fN8WTbaE8Cz4sW8MWqtRRM6M-4AsS00It=s64",
      "userId": "05949857934793656557"
     },
     "user_tz": -330
    },
    "id": "NLdNuPVrI0ff",
    "outputId": "9d48b3d9-2e82-4170-ed99-bf267b2c835b"
   },
   "outputs": [
    {
     "data": {
      "text/plain": [
       "3.6854172786256063"
      ]
     },
     "execution_count": 51,
     "metadata": {},
     "output_type": "execute_result"
    }
   ],
   "source": [
    "np.sqrt(mean_squared_error(test['Avg_price'],preds))"
   ]
  },
  {
   "cell_type": "code",
   "execution_count": 51,
   "metadata": {
    "executionInfo": {
     "elapsed": 12,
     "status": "ok",
     "timestamp": 1639539246777,
     "user": {
      "displayName": "Himanshu Agrawal",
      "photoUrl": "https://lh3.googleusercontent.com/a-/AOh14GjP7W2fN8WTbaE8Cz4sW8MWqtRRM6M-4AsS00It=s64",
      "userId": "05949857934793656557"
     },
     "user_tz": -330
    },
    "id": "M0L8dXlmIPph"
   },
   "outputs": [],
   "source": []
  },
  {
   "cell_type": "markdown",
   "metadata": {
    "id": "4H16siz_I5OQ"
   },
   "source": [
    "## Forecasting using method 1 prediction"
   ]
  },
  {
   "cell_type": "code",
   "execution_count": 52,
   "metadata": {
    "executionInfo": {
     "elapsed": 13,
     "status": "ok",
     "timestamp": 1639539246779,
     "user": {
      "displayName": "Himanshu Agrawal",
      "photoUrl": "https://lh3.googleusercontent.com/a-/AOh14GjP7W2fN8WTbaE8Cz4sW8MWqtRRM6M-4AsS00It=s64",
      "userId": "05949857934793656557"
     },
     "user_tz": -330
    },
    "id": "RODNb1YsI-IL"
   },
   "outputs": [],
   "source": [
    "full_scaler = MinMaxScaler()\n",
    "scaled_full_data = full_scaler.fit_transform(data)"
   ]
  },
  {
   "cell_type": "code",
   "execution_count": 53,
   "metadata": {
    "executionInfo": {
     "elapsed": 14,
     "status": "ok",
     "timestamp": 1639539246781,
     "user": {
      "displayName": "Himanshu Agrawal",
      "photoUrl": "https://lh3.googleusercontent.com/a-/AOh14GjP7W2fN8WTbaE8Cz4sW8MWqtRRM6M-4AsS00It=s64",
      "userId": "05949857934793656557"
     },
     "user_tz": -330
    },
    "id": "uq4XKAv7I_K-"
   },
   "outputs": [],
   "source": [
    "length = 126 \n",
    "generator = TimeseriesGenerator(scaled_full_data, scaled_full_data, length=length, batch_size=32)"
   ]
  },
  {
   "cell_type": "code",
   "execution_count": 54,
   "metadata": {
    "colab": {
     "base_uri": "https://localhost:8080/"
    },
    "executionInfo": {
     "elapsed": 652,
     "status": "ok",
     "timestamp": 1639539286621,
     "user": {
      "displayName": "Himanshu Agrawal",
      "photoUrl": "https://lh3.googleusercontent.com/a-/AOh14GjP7W2fN8WTbaE8Cz4sW8MWqtRRM6M-4AsS00It=s64",
      "userId": "05949857934793656557"
     },
     "user_tz": -330
    },
    "id": "PX_pK6pjKBPT",
    "outputId": "ff8f07ea-23d7-41b2-a7b2-333d4107d4d6"
   },
   "outputs": [
    {
     "name": "stdout",
     "output_type": "stream",
     "text": [
      "[datetime.datetime(2021, 12, 1, 0, 0), datetime.datetime(2021, 12, 2, 0, 0), datetime.datetime(2021, 12, 3, 0, 0), datetime.datetime(2021, 12, 6, 0, 0), datetime.datetime(2021, 12, 7, 0, 0), datetime.datetime(2021, 12, 8, 0, 0), datetime.datetime(2021, 12, 9, 0, 0), datetime.datetime(2021, 12, 10, 0, 0), datetime.datetime(2021, 12, 13, 0, 0), datetime.datetime(2021, 12, 14, 0, 0), datetime.datetime(2021, 12, 15, 0, 0), datetime.datetime(2021, 12, 16, 0, 0), datetime.datetime(2021, 12, 17, 0, 0), datetime.datetime(2021, 12, 20, 0, 0), datetime.datetime(2021, 12, 21, 0, 0), datetime.datetime(2021, 12, 22, 0, 0), datetime.datetime(2021, 12, 23, 0, 0), datetime.datetime(2021, 12, 24, 0, 0), datetime.datetime(2021, 12, 27, 0, 0), datetime.datetime(2021, 12, 28, 0, 0), datetime.datetime(2021, 12, 29, 0, 0), datetime.datetime(2021, 12, 30, 0, 0), datetime.datetime(2021, 12, 31, 0, 0), datetime.datetime(2022, 1, 3, 0, 0), datetime.datetime(2022, 1, 4, 0, 0), datetime.datetime(2022, 1, 5, 0, 0), datetime.datetime(2022, 1, 6, 0, 0), datetime.datetime(2022, 1, 7, 0, 0), datetime.datetime(2022, 1, 10, 0, 0), datetime.datetime(2022, 1, 11, 0, 0), datetime.datetime(2022, 1, 12, 0, 0), datetime.datetime(2022, 1, 13, 0, 0), datetime.datetime(2022, 1, 14, 0, 0), datetime.datetime(2022, 1, 17, 0, 0), datetime.datetime(2022, 1, 18, 0, 0), datetime.datetime(2022, 1, 19, 0, 0), datetime.datetime(2022, 1, 20, 0, 0), datetime.datetime(2022, 1, 21, 0, 0), datetime.datetime(2022, 1, 24, 0, 0), datetime.datetime(2022, 1, 25, 0, 0), datetime.datetime(2022, 1, 26, 0, 0), datetime.datetime(2022, 1, 27, 0, 0), datetime.datetime(2022, 1, 28, 0, 0), datetime.datetime(2022, 1, 31, 0, 0), datetime.datetime(2022, 2, 1, 0, 0), datetime.datetime(2022, 2, 2, 0, 0), datetime.datetime(2022, 2, 3, 0, 0), datetime.datetime(2022, 2, 4, 0, 0), datetime.datetime(2022, 2, 7, 0, 0), datetime.datetime(2022, 2, 8, 0, 0), datetime.datetime(2022, 2, 9, 0, 0), datetime.datetime(2022, 2, 10, 0, 0), datetime.datetime(2022, 2, 11, 0, 0), datetime.datetime(2022, 2, 14, 0, 0), datetime.datetime(2022, 2, 15, 0, 0), datetime.datetime(2022, 2, 16, 0, 0), datetime.datetime(2022, 2, 17, 0, 0), datetime.datetime(2022, 2, 18, 0, 0), datetime.datetime(2022, 2, 21, 0, 0), datetime.datetime(2022, 2, 22, 0, 0), datetime.datetime(2022, 2, 23, 0, 0), datetime.datetime(2022, 2, 24, 0, 0), datetime.datetime(2022, 2, 25, 0, 0), datetime.datetime(2022, 2, 28, 0, 0), datetime.datetime(2022, 3, 1, 0, 0), datetime.datetime(2022, 3, 2, 0, 0), datetime.datetime(2022, 3, 3, 0, 0), datetime.datetime(2022, 3, 4, 0, 0), datetime.datetime(2022, 3, 7, 0, 0), datetime.datetime(2022, 3, 8, 0, 0), datetime.datetime(2022, 3, 9, 0, 0), datetime.datetime(2022, 3, 10, 0, 0), datetime.datetime(2022, 3, 11, 0, 0), datetime.datetime(2022, 3, 14, 0, 0), datetime.datetime(2022, 3, 15, 0, 0), datetime.datetime(2022, 3, 16, 0, 0), datetime.datetime(2022, 3, 17, 0, 0), datetime.datetime(2022, 3, 18, 0, 0), datetime.datetime(2022, 3, 21, 0, 0), datetime.datetime(2022, 3, 22, 0, 0), datetime.datetime(2022, 3, 23, 0, 0), datetime.datetime(2022, 3, 24, 0, 0), datetime.datetime(2022, 3, 25, 0, 0), datetime.datetime(2022, 3, 28, 0, 0), datetime.datetime(2022, 3, 29, 0, 0), datetime.datetime(2022, 3, 30, 0, 0), datetime.datetime(2022, 3, 31, 0, 0), datetime.datetime(2022, 4, 1, 0, 0), datetime.datetime(2022, 4, 4, 0, 0), datetime.datetime(2022, 4, 5, 0, 0), datetime.datetime(2022, 4, 6, 0, 0), datetime.datetime(2022, 4, 7, 0, 0), datetime.datetime(2022, 4, 8, 0, 0), datetime.datetime(2022, 4, 11, 0, 0), datetime.datetime(2022, 4, 12, 0, 0), datetime.datetime(2022, 4, 13, 0, 0), datetime.datetime(2022, 4, 14, 0, 0), datetime.datetime(2022, 4, 15, 0, 0), datetime.datetime(2022, 4, 18, 0, 0), datetime.datetime(2022, 4, 19, 0, 0), datetime.datetime(2022, 4, 20, 0, 0), datetime.datetime(2022, 4, 21, 0, 0), datetime.datetime(2022, 4, 22, 0, 0), datetime.datetime(2022, 4, 25, 0, 0), datetime.datetime(2022, 4, 26, 0, 0), datetime.datetime(2022, 4, 27, 0, 0), datetime.datetime(2022, 4, 28, 0, 0), datetime.datetime(2022, 4, 29, 0, 0), datetime.datetime(2022, 5, 2, 0, 0), datetime.datetime(2022, 5, 3, 0, 0), datetime.datetime(2022, 5, 4, 0, 0), datetime.datetime(2022, 5, 5, 0, 0), datetime.datetime(2022, 5, 6, 0, 0), datetime.datetime(2022, 5, 9, 0, 0), datetime.datetime(2022, 5, 10, 0, 0), datetime.datetime(2022, 5, 11, 0, 0), datetime.datetime(2022, 5, 12, 0, 0), datetime.datetime(2022, 5, 13, 0, 0), datetime.datetime(2022, 5, 16, 0, 0), datetime.datetime(2022, 5, 17, 0, 0), datetime.datetime(2022, 5, 18, 0, 0), datetime.datetime(2022, 5, 19, 0, 0), datetime.datetime(2022, 5, 20, 0, 0), datetime.datetime(2022, 5, 23, 0, 0), datetime.datetime(2022, 5, 24, 0, 0), datetime.datetime(2022, 5, 25, 0, 0), datetime.datetime(2022, 5, 26, 0, 0), datetime.datetime(2022, 5, 27, 0, 0), datetime.datetime(2022, 5, 30, 0, 0), datetime.datetime(2022, 5, 31, 0, 0)]\n"
     ]
    }
   ],
   "source": [
    "from dateutil.parser import parse\n",
    "from dateutil.rrule import rrule, DAILY, MO, TU, WE, TH, FR\n",
    "\n",
    "result = rrule(\n",
    "  DAILY,\n",
    "  byweekday=(MO,TU,WE,TH,FR),\n",
    "  dtstart=parse('2021-12-01'),\n",
    "  until=parse('2022-05-31')\n",
    ")\n",
    "print(list(result))"
   ]
  },
  {
   "cell_type": "code",
   "execution_count": 55,
   "metadata": {
    "colab": {
     "base_uri": "https://localhost:8080/"
    },
    "executionInfo": {
     "elapsed": 609,
     "status": "ok",
     "timestamp": 1639539294642,
     "user": {
      "displayName": "Himanshu Agrawal",
      "photoUrl": "https://lh3.googleusercontent.com/a-/AOh14GjP7W2fN8WTbaE8Cz4sW8MWqtRRM6M-4AsS00It=s64",
      "userId": "05949857934793656557"
     },
     "user_tz": -330
    },
    "id": "Val7rH-MKBy3",
    "outputId": "9d23bf4d-ea79-4cf1-922c-79084b13844d"
   },
   "outputs": [
    {
     "data": {
      "text/plain": [
       "[datetime.datetime(2021, 12, 1, 0, 0),\n",
       " datetime.datetime(2021, 12, 2, 0, 0),\n",
       " datetime.datetime(2021, 12, 3, 0, 0),\n",
       " datetime.datetime(2021, 12, 6, 0, 0),\n",
       " datetime.datetime(2021, 12, 7, 0, 0),\n",
       " datetime.datetime(2021, 12, 8, 0, 0),\n",
       " datetime.datetime(2021, 12, 9, 0, 0),\n",
       " datetime.datetime(2021, 12, 10, 0, 0),\n",
       " datetime.datetime(2021, 12, 13, 0, 0),\n",
       " datetime.datetime(2021, 12, 14, 0, 0),\n",
       " datetime.datetime(2021, 12, 15, 0, 0),\n",
       " datetime.datetime(2021, 12, 16, 0, 0),\n",
       " datetime.datetime(2021, 12, 17, 0, 0),\n",
       " datetime.datetime(2021, 12, 20, 0, 0),\n",
       " datetime.datetime(2021, 12, 21, 0, 0),\n",
       " datetime.datetime(2021, 12, 22, 0, 0),\n",
       " datetime.datetime(2021, 12, 23, 0, 0),\n",
       " datetime.datetime(2021, 12, 24, 0, 0),\n",
       " datetime.datetime(2021, 12, 27, 0, 0),\n",
       " datetime.datetime(2021, 12, 28, 0, 0),\n",
       " datetime.datetime(2021, 12, 29, 0, 0),\n",
       " datetime.datetime(2021, 12, 30, 0, 0),\n",
       " datetime.datetime(2021, 12, 31, 0, 0),\n",
       " datetime.datetime(2022, 1, 3, 0, 0),\n",
       " datetime.datetime(2022, 1, 4, 0, 0),\n",
       " datetime.datetime(2022, 1, 5, 0, 0),\n",
       " datetime.datetime(2022, 1, 6, 0, 0),\n",
       " datetime.datetime(2022, 1, 7, 0, 0),\n",
       " datetime.datetime(2022, 1, 10, 0, 0),\n",
       " datetime.datetime(2022, 1, 11, 0, 0),\n",
       " datetime.datetime(2022, 1, 12, 0, 0),\n",
       " datetime.datetime(2022, 1, 13, 0, 0),\n",
       " datetime.datetime(2022, 1, 14, 0, 0),\n",
       " datetime.datetime(2022, 1, 17, 0, 0),\n",
       " datetime.datetime(2022, 1, 18, 0, 0),\n",
       " datetime.datetime(2022, 1, 19, 0, 0),\n",
       " datetime.datetime(2022, 1, 20, 0, 0),\n",
       " datetime.datetime(2022, 1, 21, 0, 0),\n",
       " datetime.datetime(2022, 1, 24, 0, 0),\n",
       " datetime.datetime(2022, 1, 25, 0, 0),\n",
       " datetime.datetime(2022, 1, 26, 0, 0),\n",
       " datetime.datetime(2022, 1, 27, 0, 0),\n",
       " datetime.datetime(2022, 1, 28, 0, 0),\n",
       " datetime.datetime(2022, 1, 31, 0, 0),\n",
       " datetime.datetime(2022, 2, 1, 0, 0),\n",
       " datetime.datetime(2022, 2, 2, 0, 0),\n",
       " datetime.datetime(2022, 2, 3, 0, 0),\n",
       " datetime.datetime(2022, 2, 4, 0, 0),\n",
       " datetime.datetime(2022, 2, 7, 0, 0),\n",
       " datetime.datetime(2022, 2, 8, 0, 0),\n",
       " datetime.datetime(2022, 2, 9, 0, 0),\n",
       " datetime.datetime(2022, 2, 10, 0, 0),\n",
       " datetime.datetime(2022, 2, 11, 0, 0),\n",
       " datetime.datetime(2022, 2, 14, 0, 0),\n",
       " datetime.datetime(2022, 2, 15, 0, 0),\n",
       " datetime.datetime(2022, 2, 16, 0, 0),\n",
       " datetime.datetime(2022, 2, 17, 0, 0),\n",
       " datetime.datetime(2022, 2, 18, 0, 0),\n",
       " datetime.datetime(2022, 2, 21, 0, 0),\n",
       " datetime.datetime(2022, 2, 22, 0, 0),\n",
       " datetime.datetime(2022, 2, 23, 0, 0),\n",
       " datetime.datetime(2022, 2, 24, 0, 0),\n",
       " datetime.datetime(2022, 2, 25, 0, 0),\n",
       " datetime.datetime(2022, 2, 28, 0, 0),\n",
       " datetime.datetime(2022, 3, 1, 0, 0),\n",
       " datetime.datetime(2022, 3, 2, 0, 0),\n",
       " datetime.datetime(2022, 3, 3, 0, 0),\n",
       " datetime.datetime(2022, 3, 4, 0, 0),\n",
       " datetime.datetime(2022, 3, 7, 0, 0),\n",
       " datetime.datetime(2022, 3, 8, 0, 0),\n",
       " datetime.datetime(2022, 3, 9, 0, 0),\n",
       " datetime.datetime(2022, 3, 10, 0, 0),\n",
       " datetime.datetime(2022, 3, 11, 0, 0),\n",
       " datetime.datetime(2022, 3, 14, 0, 0),\n",
       " datetime.datetime(2022, 3, 15, 0, 0),\n",
       " datetime.datetime(2022, 3, 16, 0, 0),\n",
       " datetime.datetime(2022, 3, 17, 0, 0),\n",
       " datetime.datetime(2022, 3, 18, 0, 0),\n",
       " datetime.datetime(2022, 3, 21, 0, 0),\n",
       " datetime.datetime(2022, 3, 22, 0, 0),\n",
       " datetime.datetime(2022, 3, 23, 0, 0),\n",
       " datetime.datetime(2022, 3, 24, 0, 0),\n",
       " datetime.datetime(2022, 3, 25, 0, 0),\n",
       " datetime.datetime(2022, 3, 28, 0, 0),\n",
       " datetime.datetime(2022, 3, 29, 0, 0),\n",
       " datetime.datetime(2022, 3, 30, 0, 0),\n",
       " datetime.datetime(2022, 3, 31, 0, 0),\n",
       " datetime.datetime(2022, 4, 1, 0, 0),\n",
       " datetime.datetime(2022, 4, 4, 0, 0),\n",
       " datetime.datetime(2022, 4, 5, 0, 0),\n",
       " datetime.datetime(2022, 4, 6, 0, 0),\n",
       " datetime.datetime(2022, 4, 7, 0, 0),\n",
       " datetime.datetime(2022, 4, 8, 0, 0),\n",
       " datetime.datetime(2022, 4, 11, 0, 0),\n",
       " datetime.datetime(2022, 4, 12, 0, 0),\n",
       " datetime.datetime(2022, 4, 13, 0, 0),\n",
       " datetime.datetime(2022, 4, 14, 0, 0),\n",
       " datetime.datetime(2022, 4, 15, 0, 0),\n",
       " datetime.datetime(2022, 4, 18, 0, 0),\n",
       " datetime.datetime(2022, 4, 19, 0, 0),\n",
       " datetime.datetime(2022, 4, 20, 0, 0),\n",
       " datetime.datetime(2022, 4, 21, 0, 0),\n",
       " datetime.datetime(2022, 4, 22, 0, 0),\n",
       " datetime.datetime(2022, 4, 25, 0, 0),\n",
       " datetime.datetime(2022, 4, 26, 0, 0),\n",
       " datetime.datetime(2022, 4, 27, 0, 0),\n",
       " datetime.datetime(2022, 4, 28, 0, 0),\n",
       " datetime.datetime(2022, 4, 29, 0, 0),\n",
       " datetime.datetime(2022, 5, 2, 0, 0),\n",
       " datetime.datetime(2022, 5, 3, 0, 0),\n",
       " datetime.datetime(2022, 5, 4, 0, 0),\n",
       " datetime.datetime(2022, 5, 5, 0, 0),\n",
       " datetime.datetime(2022, 5, 6, 0, 0),\n",
       " datetime.datetime(2022, 5, 9, 0, 0),\n",
       " datetime.datetime(2022, 5, 10, 0, 0),\n",
       " datetime.datetime(2022, 5, 11, 0, 0),\n",
       " datetime.datetime(2022, 5, 12, 0, 0),\n",
       " datetime.datetime(2022, 5, 13, 0, 0),\n",
       " datetime.datetime(2022, 5, 16, 0, 0),\n",
       " datetime.datetime(2022, 5, 17, 0, 0),\n",
       " datetime.datetime(2022, 5, 18, 0, 0),\n",
       " datetime.datetime(2022, 5, 19, 0, 0),\n",
       " datetime.datetime(2022, 5, 20, 0, 0),\n",
       " datetime.datetime(2022, 5, 23, 0, 0),\n",
       " datetime.datetime(2022, 5, 24, 0, 0),\n",
       " datetime.datetime(2022, 5, 25, 0, 0),\n",
       " datetime.datetime(2022, 5, 26, 0, 0),\n",
       " datetime.datetime(2022, 5, 27, 0, 0),\n",
       " datetime.datetime(2022, 5, 30, 0, 0),\n",
       " datetime.datetime(2022, 5, 31, 0, 0)]"
      ]
     },
     "execution_count": 55,
     "metadata": {},
     "output_type": "execute_result"
    }
   ],
   "source": [
    "list(result)"
   ]
  },
  {
   "cell_type": "code",
   "execution_count": 56,
   "metadata": {
    "colab": {
     "base_uri": "https://localhost:8080/"
    },
    "executionInfo": {
     "elapsed": 603,
     "status": "ok",
     "timestamp": 1639539305687,
     "user": {
      "displayName": "Himanshu Agrawal",
      "photoUrl": "https://lh3.googleusercontent.com/a-/AOh14GjP7W2fN8WTbaE8Cz4sW8MWqtRRM6M-4AsS00It=s64",
      "userId": "05949857934793656557"
     },
     "user_tz": -330
    },
    "id": "GvdaGtyGKDwa",
    "outputId": "432e451a-e542-4d46-977a-2ab549494421"
   },
   "outputs": [
    {
     "data": {
      "text/plain": [
       "130"
      ]
     },
     "execution_count": 56,
     "metadata": {},
     "output_type": "execute_result"
    }
   ],
   "source": [
    "len(list(result))"
   ]
  },
  {
   "cell_type": "code",
   "execution_count": 57,
   "metadata": {
    "colab": {
     "base_uri": "https://localhost:8080/",
     "height": 35
    },
    "executionInfo": {
     "elapsed": 508,
     "status": "ok",
     "timestamp": 1639539312455,
     "user": {
      "displayName": "Himanshu Agrawal",
      "photoUrl": "https://lh3.googleusercontent.com/a-/AOh14GjP7W2fN8WTbaE8Cz4sW8MWqtRRM6M-4AsS00It=s64",
      "userId": "05949857934793656557"
     },
     "user_tz": -330
    },
    "id": "njFPgg9mKGdu",
    "outputId": "391d3275-960e-4d80-8cb6-5bfdd0692884"
   },
   "outputs": [
    {
     "data": {
      "application/vnd.google.colaboratory.intrinsic+json": {
       "type": "string"
      },
      "text/plain": [
       "'2021-12-01'"
      ]
     },
     "execution_count": 57,
     "metadata": {},
     "output_type": "execute_result"
    }
   ],
   "source": [
    "list(result)[0].strftime('%Y-%m-%d')"
   ]
  },
  {
   "cell_type": "code",
   "execution_count": 58,
   "metadata": {
    "colab": {
     "base_uri": "https://localhost:8080/"
    },
    "executionInfo": {
     "elapsed": 604,
     "status": "ok",
     "timestamp": 1639539319215,
     "user": {
      "displayName": "Himanshu Agrawal",
      "photoUrl": "https://lh3.googleusercontent.com/a-/AOh14GjP7W2fN8WTbaE8Cz4sW8MWqtRRM6M-4AsS00It=s64",
      "userId": "05949857934793656557"
     },
     "user_tz": -330
    },
    "id": "3Juo7u_iKIIM",
    "outputId": "51d1e9e3-da6e-481d-855e-730d934004be"
   },
   "outputs": [
    {
     "data": {
      "text/plain": [
       "0      2021-12-01\n",
       "1      2021-12-02\n",
       "2      2021-12-03\n",
       "3      2021-12-06\n",
       "4      2021-12-07\n",
       "          ...    \n",
       "125    2022-05-25\n",
       "126    2022-05-26\n",
       "127    2022-05-27\n",
       "128    2022-05-30\n",
       "129    2022-05-31\n",
       "Length: 130, dtype: object"
      ]
     },
     "execution_count": 58,
     "metadata": {},
     "output_type": "execute_result"
    }
   ],
   "source": [
    "forecast_date = []\n",
    "for i in list(result):\n",
    "  forecast_date.append(i.strftime('%Y-%m-%d'))\n",
    "\n",
    "forecast_date = pd.Series(forecast_date)\n",
    "forecast_date"
   ]
  },
  {
   "cell_type": "code",
   "execution_count": 59,
   "metadata": {
    "colab": {
     "base_uri": "https://localhost:8080/"
    },
    "executionInfo": {
     "elapsed": 606,
     "status": "ok",
     "timestamp": 1639539326693,
     "user": {
      "displayName": "Himanshu Agrawal",
      "photoUrl": "https://lh3.googleusercontent.com/a-/AOh14GjP7W2fN8WTbaE8Cz4sW8MWqtRRM6M-4AsS00It=s64",
      "userId": "05949857934793656557"
     },
     "user_tz": -330
    },
    "id": "T3urDbK3KJwV",
    "outputId": "e545d746-c9b8-47d4-fc6b-2386562d8d11"
   },
   "outputs": [
    {
     "data": {
      "text/plain": [
       "0     2021-12-01\n",
       "1     2021-12-02\n",
       "2     2021-12-03\n",
       "3     2021-12-06\n",
       "4     2021-12-07\n",
       "         ...    \n",
       "125   2022-05-25\n",
       "126   2022-05-26\n",
       "127   2022-05-27\n",
       "128   2022-05-30\n",
       "129   2022-05-31\n",
       "Length: 130, dtype: datetime64[ns]"
      ]
     },
     "execution_count": 59,
     "metadata": {},
     "output_type": "execute_result"
    }
   ],
   "source": [
    "forecast_date = pd.to_datetime(forecast_date, dayfirst=True)\n",
    "forecast_date"
   ]
  },
  {
   "cell_type": "code",
   "execution_count": 60,
   "metadata": {
    "executionInfo": {
     "elapsed": 8306,
     "status": "ok",
     "timestamp": 1639539342271,
     "user": {
      "displayName": "Himanshu Agrawal",
      "photoUrl": "https://lh3.googleusercontent.com/a-/AOh14GjP7W2fN8WTbaE8Cz4sW8MWqtRRM6M-4AsS00It=s64",
      "userId": "05949857934793656557"
     },
     "user_tz": -330
    },
    "id": "rw8wFhX-KLlz"
   },
   "outputs": [],
   "source": [
    "forecast = []\n",
    "# Replace periods with whatever forecast length you want\n",
    "periods = 130\n",
    "\n",
    "first_eval_batch = scaled_full_data[-length:]\n",
    "current_batch = first_eval_batch.reshape((1, length, n_features))\n",
    "\n",
    "for i in range(periods):\n",
    "    \n",
    "    # get prediction 1 time stamp ahead ([0] is for grabbing just the number instead of [array])\n",
    "    current_pred = model.predict(current_batch)[0]\n",
    "    \n",
    "    # store prediction\n",
    "    forecast.append(current_pred) \n",
    "    \n",
    "    # update batch to now include prediction and drop first value\n",
    "    current_batch = np.append(current_batch[:,1:,:],[[current_pred]],axis=1)"
   ]
  },
  {
   "cell_type": "code",
   "execution_count": 61,
   "metadata": {
    "colab": {
     "base_uri": "https://localhost:8080/",
     "height": 423
    },
    "executionInfo": {
     "elapsed": 11,
     "status": "ok",
     "timestamp": 1639539342273,
     "user": {
      "displayName": "Himanshu Agrawal",
      "photoUrl": "https://lh3.googleusercontent.com/a-/AOh14GjP7W2fN8WTbaE8Cz4sW8MWqtRRM6M-4AsS00It=s64",
      "userId": "05949857934793656557"
     },
     "user_tz": -330
    },
    "id": "TjpgOeoXKNZr",
    "outputId": "0ecf695c-6348-4113-a254-09ba599407b8"
   },
   "outputs": [
    {
     "data": {
      "text/html": [
       "<div>\n",
       "<style scoped>\n",
       "    .dataframe tbody tr th:only-of-type {\n",
       "        vertical-align: middle;\n",
       "    }\n",
       "\n",
       "    .dataframe tbody tr th {\n",
       "        vertical-align: top;\n",
       "    }\n",
       "\n",
       "    .dataframe thead th {\n",
       "        text-align: right;\n",
       "    }\n",
       "</style>\n",
       "<table border=\"1\" class=\"dataframe\">\n",
       "  <thead>\n",
       "    <tr style=\"text-align: right;\">\n",
       "      <th></th>\n",
       "      <th>Forecast</th>\n",
       "    </tr>\n",
       "  </thead>\n",
       "  <tbody>\n",
       "    <tr>\n",
       "      <th>2021-12-01</th>\n",
       "      <td>140.907455</td>\n",
       "    </tr>\n",
       "    <tr>\n",
       "      <th>2021-12-02</th>\n",
       "      <td>141.502670</td>\n",
       "    </tr>\n",
       "    <tr>\n",
       "      <th>2021-12-03</th>\n",
       "      <td>141.996549</td>\n",
       "    </tr>\n",
       "    <tr>\n",
       "      <th>2021-12-06</th>\n",
       "      <td>142.406847</td>\n",
       "    </tr>\n",
       "    <tr>\n",
       "      <th>2021-12-07</th>\n",
       "      <td>142.754087</td>\n",
       "    </tr>\n",
       "    <tr>\n",
       "      <th>...</th>\n",
       "      <td>...</td>\n",
       "    </tr>\n",
       "    <tr>\n",
       "      <th>2022-05-25</th>\n",
       "      <td>148.391515</td>\n",
       "    </tr>\n",
       "    <tr>\n",
       "      <th>2022-05-26</th>\n",
       "      <td>148.391916</td>\n",
       "    </tr>\n",
       "    <tr>\n",
       "      <th>2022-05-27</th>\n",
       "      <td>148.392283</td>\n",
       "    </tr>\n",
       "    <tr>\n",
       "      <th>2022-05-30</th>\n",
       "      <td>148.392650</td>\n",
       "    </tr>\n",
       "    <tr>\n",
       "      <th>2022-05-31</th>\n",
       "      <td>148.393000</td>\n",
       "    </tr>\n",
       "  </tbody>\n",
       "</table>\n",
       "<p>130 rows × 1 columns</p>\n",
       "</div>"
      ],
      "text/plain": [
       "              Forecast\n",
       "2021-12-01  140.907455\n",
       "2021-12-02  141.502670\n",
       "2021-12-03  141.996549\n",
       "2021-12-06  142.406847\n",
       "2021-12-07  142.754087\n",
       "...                ...\n",
       "2022-05-25  148.391515\n",
       "2022-05-26  148.391916\n",
       "2022-05-27  148.392283\n",
       "2022-05-30  148.392650\n",
       "2022-05-31  148.393000\n",
       "\n",
       "[130 rows x 1 columns]"
      ]
     },
     "execution_count": 61,
     "metadata": {},
     "output_type": "execute_result"
    }
   ],
   "source": [
    "forecast = scaler.inverse_transform(forecast)\n",
    "forecast_df = pd.DataFrame(data=forecast,index=forecast_date,\n",
    "                           columns=['Forecast'])\n",
    "forecast_df"
   ]
  },
  {
   "cell_type": "code",
   "execution_count": 62,
   "metadata": {
    "colab": {
     "base_uri": "https://localhost:8080/",
     "height": 547
    },
    "executionInfo": {
     "elapsed": 1725,
     "status": "ok",
     "timestamp": 1639539351771,
     "user": {
      "displayName": "Himanshu Agrawal",
      "photoUrl": "https://lh3.googleusercontent.com/a-/AOh14GjP7W2fN8WTbaE8Cz4sW8MWqtRRM6M-4AsS00It=s64",
      "userId": "05949857934793656557"
     },
     "user_tz": -330
    },
    "id": "1CDXvKA1KPYx",
    "outputId": "2f750411-cca9-41ab-9031-d1be742c3baf"
   },
   "outputs": [
    {
     "data": {
      "text/plain": [
       "<matplotlib.axes._subplots.AxesSubplot at 0x7f942ed6ce90>"
      ]
     },
     "execution_count": 62,
     "metadata": {},
     "output_type": "execute_result"
    },
    {
     "data": {
      "image/png": "[encoded data removed]",
      "text/plain": [
       "<Figure size 432x288 with 1 Axes>"
      ]
     },
     "metadata": {
      "needs_background": "light"
     },
     "output_type": "display_data"
    },
    {
     "data": {
      "image/png": "[encoded data removed]",
      "text/plain": [
       "<Figure size 432x288 with 1 Axes>"
      ]
     },
     "metadata": {
      "needs_background": "light"
     },
     "output_type": "display_data"
    }
   ],
   "source": [
    "data.plot()\n",
    "forecast_df.plot()"
   ]
  },
  {
   "cell_type": "code",
   "execution_count": 63,
   "metadata": {
    "colab": {
     "base_uri": "https://localhost:8080/",
     "height": 287
    },
    "executionInfo": {
     "elapsed": 637,
     "status": "ok",
     "timestamp": 1639539365529,
     "user": {
      "displayName": "Himanshu Agrawal",
      "photoUrl": "https://lh3.googleusercontent.com/a-/AOh14GjP7W2fN8WTbaE8Cz4sW8MWqtRRM6M-4AsS00It=s64",
      "userId": "05949857934793656557"
     },
     "user_tz": -330
    },
    "id": "g65RqRq4KRcB",
    "outputId": "03d14625-0b6a-48be-fae4-05fe17d1f87e"
   },
   "outputs": [
    {
     "data": {
      "text/plain": [
       "<matplotlib.axes._subplots.AxesSubplot at 0x7f942ee15c50>"
      ]
     },
     "execution_count": 63,
     "metadata": {},
     "output_type": "execute_result"
    },
    {
     "data": {
      "image/png": "[encoded data removed]",
      "text/plain": [
       "<Figure size 432x288 with 1 Axes>"
      ]
     },
     "metadata": {
      "needs_background": "light"
     },
     "output_type": "display_data"
    }
   ],
   "source": [
    "ax = data.plot()\n",
    "forecast_df.plot(ax=ax)\n"
   ]
  },
  {
   "cell_type": "code",
   "execution_count": 65,
   "metadata": {
    "colab": {
     "base_uri": "https://localhost:8080/",
     "height": 295
    },
    "executionInfo": {
     "elapsed": 943,
     "status": "ok",
     "timestamp": 1639540569741,
     "user": {
      "displayName": "Himanshu Agrawal",
      "photoUrl": "https://lh3.googleusercontent.com/a-/AOh14GjP7W2fN8WTbaE8Cz4sW8MWqtRRM6M-4AsS00It=s64",
      "userId": "05949857934793656557"
     },
     "user_tz": -330
    },
    "id": "iXmjSQreKU-h",
    "outputId": "674002a9-63e1-4b8b-907d-d2174c0cf990"
   },
   "outputs": [
    {
     "data": {
      "text/plain": [
       "(737791.0, 738306.0)"
      ]
     },
     "execution_count": 65,
     "metadata": {},
     "output_type": "execute_result"
    },
    {
     "data": {
      "image/png": "[encoded data removed]",
      "text/plain": [
       "<Figure size 432x288 with 1 Axes>"
      ]
     },
     "metadata": {
      "needs_background": "light"
     },
     "output_type": "display_data"
    }
   ],
   "source": [
    "ax = data.plot()\n",
    "forecast_df.plot(ax=ax)\n",
    "plt.xlim('2021-01-01','2022-05-31')"
   ]
  },
  {
   "cell_type": "code",
   "execution_count": 66,
   "metadata": {
    "executionInfo": {
     "elapsed": 608,
     "status": "ok",
     "timestamp": 1639541042601,
     "user": {
      "displayName": "Himanshu Agrawal",
      "photoUrl": "https://lh3.googleusercontent.com/a-/AOh14GjP7W2fN8WTbaE8Cz4sW8MWqtRRM6M-4AsS00It=s64",
      "userId": "05949857934793656557"
     },
     "user_tz": -330
    },
    "id": "iTwCEhGHKXcE"
   },
   "outputs": [],
   "source": [
    "model.save('AAPL_model.h5')"
   ]
  },
  {
   "cell_type": "code",
   "execution_count": null,
   "metadata": {
    "id": "44ZDPgLTQugQ"
   },
   "outputs": [],
   "source": []
  }
 ],
 "metadata": {
  "colab": {
   "authorship_tag": "ABX9TyOvBSPDECzcUIe6SbCxZ5ow",
   "name": "Untitled6.ipynb",
   "provenance": []
  },
  "kernelspec": {
   "display_name": "Python 3",
   "language": "python",
   "name": "python3"
  },
  "language_info": {
   "codemirror_mode": {
    "name": "ipython",
    "version": 3
   },
   "file_extension": ".py",
   "mimetype": "text/x-python",
   "name": "python",
   "nbconvert_exporter": "python",
   "pygments_lexer": "ipython3",
   "version": "3.8.3"
  }
 },
 "nbformat": 4,
 "nbformat_minor": 1
}
